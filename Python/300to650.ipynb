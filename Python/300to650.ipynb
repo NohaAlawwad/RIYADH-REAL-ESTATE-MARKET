{
 "cells": [
  {
   "cell_type": "code",
   "execution_count": 8,
   "metadata": {
    "collapsed": true,
    "slideshow": {
     "slide_type": "slide"
    }
   },
   "outputs": [],
   "source": [
    "import pandas as pd\n",
    "import numpy as np\n",
    "import altair as alt"
   ]
  },
  {
   "cell_type": "code",
   "execution_count": 9,
   "metadata": {
    "collapsed": true,
    "slideshow": {
     "slide_type": "subslide"
    }
   },
   "outputs": [],
   "source": [
    "df = pd.read_csv(\"new_300to650.csv\")"
   ]
  },
  {
   "cell_type": "code",
   "execution_count": 10,
   "metadata": {
    "slideshow": {
     "slide_type": "subslide"
    }
   },
   "outputs": [
    {
     "data": {
      "text/plain": [
       "(17509, 12)"
      ]
     },
     "execution_count": 10,
     "metadata": {},
     "output_type": "execute_result"
    }
   ],
   "source": [
    "df.shape"
   ]
  },
  {
   "cell_type": "code",
   "execution_count": 11,
   "metadata": {
    "slideshow": {
     "slide_type": "subslide"
    }
   },
   "outputs": [
    {
     "data": {
      "text/html": [
       "<div>\n",
       "<style>\n",
       "    .dataframe thead tr:only-child th {\n",
       "        text-align: right;\n",
       "    }\n",
       "\n",
       "    .dataframe thead th {\n",
       "        text-align: left;\n",
       "    }\n",
       "\n",
       "    .dataframe tbody tr th {\n",
       "        vertical-align: top;\n",
       "    }\n",
       "</style>\n",
       "<table border=\"1\" class=\"dataframe\">\n",
       "  <thead>\n",
       "    <tr style=\"text-align: right;\">\n",
       "      <th></th>\n",
       "      <th>apartments</th>\n",
       "      <th>bedrooms</th>\n",
       "      <th>driver_room</th>\n",
       "      <th>furnished</th>\n",
       "      <th>SwimmingPool</th>\n",
       "      <th>price</th>\n",
       "      <th>area</th>\n",
       "      <th>اتجاه الشارع</th>\n",
       "      <th>عرض الشارع</th>\n",
       "      <th>district_name_en</th>\n",
       "      <th>year</th>\n",
       "      <th>PPA</th>\n",
       "    </tr>\n",
       "  </thead>\n",
       "  <tbody>\n",
       "    <tr>\n",
       "      <th>0</th>\n",
       "      <td>1</td>\n",
       "      <td>5</td>\n",
       "      <td>DriverRoom</td>\n",
       "      <td>NotFurnished</td>\n",
       "      <td>SwimmingPool</td>\n",
       "      <td>3000000</td>\n",
       "      <td>400</td>\n",
       "      <td>شمال</td>\n",
       "      <td>10</td>\n",
       "      <td>Al Ulaya</td>\n",
       "      <td>2016</td>\n",
       "      <td>7500</td>\n",
       "    </tr>\n",
       "    <tr>\n",
       "      <th>1</th>\n",
       "      <td>2</td>\n",
       "      <td>3</td>\n",
       "      <td>DriverRoom</td>\n",
       "      <td>NotFurnished</td>\n",
       "      <td>NoSwimmingPool</td>\n",
       "      <td>1700000</td>\n",
       "      <td>373</td>\n",
       "      <td>جنوب</td>\n",
       "      <td>15</td>\n",
       "      <td>An Narjis</td>\n",
       "      <td>2015</td>\n",
       "      <td>4558</td>\n",
       "    </tr>\n",
       "    <tr>\n",
       "      <th>2</th>\n",
       "      <td>4</td>\n",
       "      <td>3</td>\n",
       "      <td>DriverRoom</td>\n",
       "      <td>NotFurnished</td>\n",
       "      <td>NoSwimmingPool</td>\n",
       "      <td>1700000</td>\n",
       "      <td>438</td>\n",
       "      <td>شمال</td>\n",
       "      <td>15</td>\n",
       "      <td>Al Arid</td>\n",
       "      <td>2016</td>\n",
       "      <td>3881</td>\n",
       "    </tr>\n",
       "    <tr>\n",
       "      <th>3</th>\n",
       "      <td>0</td>\n",
       "      <td>5</td>\n",
       "      <td>NoDriverRoom</td>\n",
       "      <td>NotFurnished</td>\n",
       "      <td>NoSwimmingPool</td>\n",
       "      <td>900000</td>\n",
       "      <td>625</td>\n",
       "      <td>جنوب غربي</td>\n",
       "      <td>15</td>\n",
       "      <td>Dirab</td>\n",
       "      <td>2015</td>\n",
       "      <td>1440</td>\n",
       "    </tr>\n",
       "    <tr>\n",
       "      <th>4</th>\n",
       "      <td>2</td>\n",
       "      <td>5</td>\n",
       "      <td>DriverRoom</td>\n",
       "      <td>NotFurnished</td>\n",
       "      <td>NoSwimmingPool</td>\n",
       "      <td>1650000</td>\n",
       "      <td>450</td>\n",
       "      <td>جنوب</td>\n",
       "      <td>20</td>\n",
       "      <td>Dhahrat Laban</td>\n",
       "      <td>2016</td>\n",
       "      <td>3667</td>\n",
       "    </tr>\n",
       "  </tbody>\n",
       "</table>\n",
       "</div>"
      ],
      "text/plain": [
       "   apartments  bedrooms   driver_room     furnished    SwimmingPool    price  \\\n",
       "0           1         5    DriverRoom  NotFurnished    SwimmingPool  3000000   \n",
       "1           2         3    DriverRoom  NotFurnished  NoSwimmingPool  1700000   \n",
       "2           4         3    DriverRoom  NotFurnished  NoSwimmingPool  1700000   \n",
       "3           0         5  NoDriverRoom  NotFurnished  NoSwimmingPool   900000   \n",
       "4           2         5    DriverRoom  NotFurnished  NoSwimmingPool  1650000   \n",
       "\n",
       "   area اتجاه الشارع  عرض الشارع district_name_en  year   PPA  \n",
       "0   400         شمال          10         Al Ulaya  2016  7500  \n",
       "1   373         جنوب          15        An Narjis  2015  4558  \n",
       "2   438         شمال          15          Al Arid  2016  3881  \n",
       "3   625    جنوب غربي          15            Dirab  2015  1440  \n",
       "4   450         جنوب          20    Dhahrat Laban  2016  3667  "
      ]
     },
     "execution_count": 11,
     "metadata": {},
     "output_type": "execute_result"
    }
   ],
   "source": [
    "df.head()"
   ]
  },
  {
   "cell_type": "code",
   "execution_count": 12,
   "metadata": {},
   "outputs": [
    {
     "data": {
      "text/html": [
       "<div>\n",
       "<style>\n",
       "    .dataframe thead tr:only-child th {\n",
       "        text-align: right;\n",
       "    }\n",
       "\n",
       "    .dataframe thead th {\n",
       "        text-align: left;\n",
       "    }\n",
       "\n",
       "    .dataframe tbody tr th {\n",
       "        vertical-align: top;\n",
       "    }\n",
       "</style>\n",
       "<table border=\"1\" class=\"dataframe\">\n",
       "  <thead>\n",
       "    <tr style=\"text-align: right;\">\n",
       "      <th></th>\n",
       "      <th>apartments</th>\n",
       "      <th>bedrooms</th>\n",
       "      <th>driver_room</th>\n",
       "      <th>furnished</th>\n",
       "      <th>SwimmingPool</th>\n",
       "      <th>price</th>\n",
       "      <th>area</th>\n",
       "      <th>اتجاه الشارع</th>\n",
       "      <th>عرض الشارع</th>\n",
       "      <th>district_name_en</th>\n",
       "      <th>year</th>\n",
       "      <th>PPA</th>\n",
       "    </tr>\n",
       "  </thead>\n",
       "  <tbody>\n",
       "    <tr>\n",
       "      <th>24</th>\n",
       "      <td>0</td>\n",
       "      <td>5</td>\n",
       "      <td>DriverRoom</td>\n",
       "      <td>Furnished</td>\n",
       "      <td>SwimmingPool</td>\n",
       "      <td>2300000</td>\n",
       "      <td>427</td>\n",
       "      <td>جنوب غربي</td>\n",
       "      <td>15</td>\n",
       "      <td>Al Yasmin</td>\n",
       "      <td>2016</td>\n",
       "      <td>5386</td>\n",
       "    </tr>\n",
       "    <tr>\n",
       "      <th>33</th>\n",
       "      <td>0</td>\n",
       "      <td>4</td>\n",
       "      <td>DriverRoom</td>\n",
       "      <td>Furnished</td>\n",
       "      <td>SwimmingPool</td>\n",
       "      <td>1900000</td>\n",
       "      <td>312</td>\n",
       "      <td>جنوب</td>\n",
       "      <td>15</td>\n",
       "      <td>As Sahafah</td>\n",
       "      <td>2015</td>\n",
       "      <td>6090</td>\n",
       "    </tr>\n",
       "    <tr>\n",
       "      <th>78</th>\n",
       "      <td>2</td>\n",
       "      <td>5</td>\n",
       "      <td>DriverRoom</td>\n",
       "      <td>Furnished</td>\n",
       "      <td>NoSwimmingPool</td>\n",
       "      <td>1600000</td>\n",
       "      <td>575</td>\n",
       "      <td>شمال</td>\n",
       "      <td>15</td>\n",
       "      <td>An Nafl</td>\n",
       "      <td>2015</td>\n",
       "      <td>2783</td>\n",
       "    </tr>\n",
       "    <tr>\n",
       "      <th>113</th>\n",
       "      <td>0</td>\n",
       "      <td>5</td>\n",
       "      <td>DriverRoom</td>\n",
       "      <td>Furnished</td>\n",
       "      <td>NoSwimmingPool</td>\n",
       "      <td>1600000</td>\n",
       "      <td>420</td>\n",
       "      <td>جنوب</td>\n",
       "      <td>10</td>\n",
       "      <td>King Fahd</td>\n",
       "      <td>2015</td>\n",
       "      <td>3810</td>\n",
       "    </tr>\n",
       "    <tr>\n",
       "      <th>132</th>\n",
       "      <td>0</td>\n",
       "      <td>5</td>\n",
       "      <td>DriverRoom</td>\n",
       "      <td>Furnished</td>\n",
       "      <td>SwimmingPool</td>\n",
       "      <td>4000000</td>\n",
       "      <td>618</td>\n",
       "      <td>شرق</td>\n",
       "      <td>25</td>\n",
       "      <td>As Sulimaniyah</td>\n",
       "      <td>2015</td>\n",
       "      <td>7472</td>\n",
       "    </tr>\n",
       "  </tbody>\n",
       "</table>\n",
       "</div>"
      ],
      "text/plain": [
       "     apartments  bedrooms driver_room  furnished    SwimmingPool    price  \\\n",
       "24            0         5  DriverRoom  Furnished    SwimmingPool  2300000   \n",
       "33            0         4  DriverRoom  Furnished    SwimmingPool  1900000   \n",
       "78            2         5  DriverRoom  Furnished  NoSwimmingPool  1600000   \n",
       "113           0         5  DriverRoom  Furnished  NoSwimmingPool  1600000   \n",
       "132           0         5  DriverRoom  Furnished    SwimmingPool  4000000   \n",
       "\n",
       "     area اتجاه الشارع  عرض الشارع district_name_en  year   PPA  \n",
       "24    427    جنوب غربي          15        Al Yasmin  2016  5386  \n",
       "33    312         جنوب          15       As Sahafah  2015  6090  \n",
       "78    575         شمال          15          An Nafl  2015  2783  \n",
       "113   420         جنوب          10        King Fahd  2015  3810  \n",
       "132   618          شرق          25   As Sulimaniyah  2015  7472  "
      ]
     },
     "execution_count": 12,
     "metadata": {},
     "output_type": "execute_result"
    }
   ],
   "source": [
    "df2 = df.query(\"driver_room == 'DriverRoom' and furnished == 'Furnished'\")\n",
    "df2.head()"
   ]
  },
  {
   "cell_type": "code",
   "execution_count": 13,
   "metadata": {},
   "outputs": [
    {
     "data": {
      "text/plain": [
       "4618.232741617357"
      ]
     },
     "execution_count": 13,
     "metadata": {},
     "output_type": "execute_result"
    }
   ],
   "source": [
    "df2_PPA_mean = df2['PPA'].mean()\n",
    "df2_PPA_mean"
   ]
  },
  {
   "cell_type": "code",
   "execution_count": 14,
   "metadata": {},
   "outputs": [
    {
     "data": {
      "text/html": [
       "<div>\n",
       "<style>\n",
       "    .dataframe thead tr:only-child th {\n",
       "        text-align: right;\n",
       "    }\n",
       "\n",
       "    .dataframe thead th {\n",
       "        text-align: left;\n",
       "    }\n",
       "\n",
       "    .dataframe tbody tr th {\n",
       "        vertical-align: top;\n",
       "    }\n",
       "</style>\n",
       "<table border=\"1\" class=\"dataframe\">\n",
       "  <thead>\n",
       "    <tr style=\"text-align: right;\">\n",
       "      <th></th>\n",
       "      <th>apartments</th>\n",
       "      <th>bedrooms</th>\n",
       "      <th>driver_room</th>\n",
       "      <th>furnished</th>\n",
       "      <th>SwimmingPool</th>\n",
       "      <th>price</th>\n",
       "      <th>area</th>\n",
       "      <th>اتجاه الشارع</th>\n",
       "      <th>عرض الشارع</th>\n",
       "      <th>district_name_en</th>\n",
       "      <th>year</th>\n",
       "      <th>PPA</th>\n",
       "    </tr>\n",
       "  </thead>\n",
       "  <tbody>\n",
       "    <tr>\n",
       "      <th>6</th>\n",
       "      <td>1</td>\n",
       "      <td>5</td>\n",
       "      <td>NoDriverRoom</td>\n",
       "      <td>Furnished</td>\n",
       "      <td>NoSwimmingPool</td>\n",
       "      <td>1700000</td>\n",
       "      <td>540</td>\n",
       "      <td>غرب</td>\n",
       "      <td>20</td>\n",
       "      <td>Al Quds</td>\n",
       "      <td>2016</td>\n",
       "      <td>4448</td>\n",
       "    </tr>\n",
       "    <tr>\n",
       "      <th>87</th>\n",
       "      <td>1</td>\n",
       "      <td>5</td>\n",
       "      <td>NoDriverRoom</td>\n",
       "      <td>Furnished</td>\n",
       "      <td>NoSwimmingPool</td>\n",
       "      <td>950000</td>\n",
       "      <td>375</td>\n",
       "      <td>جنوب</td>\n",
       "      <td>25</td>\n",
       "      <td>Tuwaiq</td>\n",
       "      <td>2016</td>\n",
       "      <td>4333</td>\n",
       "    </tr>\n",
       "    <tr>\n",
       "      <th>93</th>\n",
       "      <td>3</td>\n",
       "      <td>3</td>\n",
       "      <td>NoDriverRoom</td>\n",
       "      <td>Furnished</td>\n",
       "      <td>NoSwimmingPool</td>\n",
       "      <td>2000000</td>\n",
       "      <td>500</td>\n",
       "      <td>شرق</td>\n",
       "      <td>15</td>\n",
       "      <td>Al Munsiyah</td>\n",
       "      <td>2015</td>\n",
       "      <td>4000</td>\n",
       "    </tr>\n",
       "    <tr>\n",
       "      <th>94</th>\n",
       "      <td>2</td>\n",
       "      <td>5</td>\n",
       "      <td>NoDriverRoom</td>\n",
       "      <td>Furnished</td>\n",
       "      <td>NoSwimmingPool</td>\n",
       "      <td>1130000</td>\n",
       "      <td>450</td>\n",
       "      <td>شرق</td>\n",
       "      <td>15</td>\n",
       "      <td>Tuwaiq</td>\n",
       "      <td>2016</td>\n",
       "      <td>3511</td>\n",
       "    </tr>\n",
       "    <tr>\n",
       "      <th>167</th>\n",
       "      <td>0</td>\n",
       "      <td>5</td>\n",
       "      <td>NoDriverRoom</td>\n",
       "      <td>Furnished</td>\n",
       "      <td>NoSwimmingPool</td>\n",
       "      <td>780000</td>\n",
       "      <td>300</td>\n",
       "      <td>غرب</td>\n",
       "      <td>20</td>\n",
       "      <td>Namar</td>\n",
       "      <td>2015</td>\n",
       "      <td>2600</td>\n",
       "    </tr>\n",
       "  </tbody>\n",
       "</table>\n",
       "</div>"
      ],
      "text/plain": [
       "     apartments  bedrooms   driver_room  furnished    SwimmingPool    price  \\\n",
       "6             1         5  NoDriverRoom  Furnished  NoSwimmingPool  1700000   \n",
       "87            1         5  NoDriverRoom  Furnished  NoSwimmingPool   950000   \n",
       "93            3         3  NoDriverRoom  Furnished  NoSwimmingPool  2000000   \n",
       "94            2         5  NoDriverRoom  Furnished  NoSwimmingPool  1130000   \n",
       "167           0         5  NoDriverRoom  Furnished  NoSwimmingPool   780000   \n",
       "\n",
       "     area اتجاه الشارع  عرض الشارع district_name_en  year   PPA  \n",
       "6     540          غرب          20          Al Quds  2016  4448  \n",
       "87    375         جنوب          25           Tuwaiq  2016  4333  \n",
       "93    500          شرق          15      Al Munsiyah  2015  4000  \n",
       "94    450          شرق          15           Tuwaiq  2016  3511  \n",
       "167   300          غرب          20            Namar  2015  2600  "
      ]
     },
     "execution_count": 14,
     "metadata": {},
     "output_type": "execute_result"
    }
   ],
   "source": [
    "df3 = df.query(\"driver_room == 'NoDriverRoom' and furnished == 'Furnished'\")\n",
    "df3.head()"
   ]
  },
  {
   "cell_type": "code",
   "execution_count": 15,
   "metadata": {},
   "outputs": [
    {
     "data": {
      "text/plain": [
       "3424.6854545454544"
      ]
     },
     "execution_count": 15,
     "metadata": {},
     "output_type": "execute_result"
    }
   ],
   "source": [
    "df3_PPA_mean = df3['PPA'].mean()\n",
    "df3_PPA_mean"
   ]
  },
  {
   "cell_type": "code",
   "execution_count": 16,
   "metadata": {},
   "outputs": [
    {
     "data": {
      "text/html": [
       "<div>\n",
       "<style>\n",
       "    .dataframe thead tr:only-child th {\n",
       "        text-align: right;\n",
       "    }\n",
       "\n",
       "    .dataframe thead th {\n",
       "        text-align: left;\n",
       "    }\n",
       "\n",
       "    .dataframe tbody tr th {\n",
       "        vertical-align: top;\n",
       "    }\n",
       "</style>\n",
       "<table border=\"1\" class=\"dataframe\">\n",
       "  <thead>\n",
       "    <tr style=\"text-align: right;\">\n",
       "      <th></th>\n",
       "      <th>apartments</th>\n",
       "      <th>bedrooms</th>\n",
       "      <th>driver_room</th>\n",
       "      <th>furnished</th>\n",
       "      <th>SwimmingPool</th>\n",
       "      <th>price</th>\n",
       "      <th>area</th>\n",
       "      <th>اتجاه الشارع</th>\n",
       "      <th>عرض الشارع</th>\n",
       "      <th>district_name_en</th>\n",
       "      <th>year</th>\n",
       "      <th>PPA</th>\n",
       "    </tr>\n",
       "  </thead>\n",
       "  <tbody>\n",
       "    <tr>\n",
       "      <th>0</th>\n",
       "      <td>1</td>\n",
       "      <td>5</td>\n",
       "      <td>DriverRoom</td>\n",
       "      <td>NotFurnished</td>\n",
       "      <td>SwimmingPool</td>\n",
       "      <td>3000000</td>\n",
       "      <td>400</td>\n",
       "      <td>شمال</td>\n",
       "      <td>10</td>\n",
       "      <td>Al Ulaya</td>\n",
       "      <td>2016</td>\n",
       "      <td>7500</td>\n",
       "    </tr>\n",
       "    <tr>\n",
       "      <th>1</th>\n",
       "      <td>2</td>\n",
       "      <td>3</td>\n",
       "      <td>DriverRoom</td>\n",
       "      <td>NotFurnished</td>\n",
       "      <td>NoSwimmingPool</td>\n",
       "      <td>1700000</td>\n",
       "      <td>373</td>\n",
       "      <td>جنوب</td>\n",
       "      <td>15</td>\n",
       "      <td>An Narjis</td>\n",
       "      <td>2015</td>\n",
       "      <td>4558</td>\n",
       "    </tr>\n",
       "    <tr>\n",
       "      <th>2</th>\n",
       "      <td>4</td>\n",
       "      <td>3</td>\n",
       "      <td>DriverRoom</td>\n",
       "      <td>NotFurnished</td>\n",
       "      <td>NoSwimmingPool</td>\n",
       "      <td>1700000</td>\n",
       "      <td>438</td>\n",
       "      <td>شمال</td>\n",
       "      <td>15</td>\n",
       "      <td>Al Arid</td>\n",
       "      <td>2016</td>\n",
       "      <td>3881</td>\n",
       "    </tr>\n",
       "    <tr>\n",
       "      <th>4</th>\n",
       "      <td>2</td>\n",
       "      <td>5</td>\n",
       "      <td>DriverRoom</td>\n",
       "      <td>NotFurnished</td>\n",
       "      <td>NoSwimmingPool</td>\n",
       "      <td>1650000</td>\n",
       "      <td>450</td>\n",
       "      <td>جنوب</td>\n",
       "      <td>20</td>\n",
       "      <td>Dhahrat Laban</td>\n",
       "      <td>2016</td>\n",
       "      <td>3667</td>\n",
       "    </tr>\n",
       "    <tr>\n",
       "      <th>7</th>\n",
       "      <td>2</td>\n",
       "      <td>3</td>\n",
       "      <td>DriverRoom</td>\n",
       "      <td>NotFurnished</td>\n",
       "      <td>NoSwimmingPool</td>\n",
       "      <td>1800000</td>\n",
       "      <td>402</td>\n",
       "      <td>شمال</td>\n",
       "      <td>20</td>\n",
       "      <td>As Saadah</td>\n",
       "      <td>2015</td>\n",
       "      <td>4478</td>\n",
       "    </tr>\n",
       "  </tbody>\n",
       "</table>\n",
       "</div>"
      ],
      "text/plain": [
       "   apartments  bedrooms driver_room     furnished    SwimmingPool    price  \\\n",
       "0           1         5  DriverRoom  NotFurnished    SwimmingPool  3000000   \n",
       "1           2         3  DriverRoom  NotFurnished  NoSwimmingPool  1700000   \n",
       "2           4         3  DriverRoom  NotFurnished  NoSwimmingPool  1700000   \n",
       "4           2         5  DriverRoom  NotFurnished  NoSwimmingPool  1650000   \n",
       "7           2         3  DriverRoom  NotFurnished  NoSwimmingPool  1800000   \n",
       "\n",
       "   area اتجاه الشارع  عرض الشارع district_name_en  year   PPA  \n",
       "0   400         شمال          10         Al Ulaya  2016  7500  \n",
       "1   373         جنوب          15        An Narjis  2015  4558  \n",
       "2   438         شمال          15          Al Arid  2016  3881  \n",
       "4   450         جنوب          20    Dhahrat Laban  2016  3667  \n",
       "7   402         شمال          20        As Saadah  2015  4478  "
      ]
     },
     "execution_count": 16,
     "metadata": {},
     "output_type": "execute_result"
    }
   ],
   "source": [
    "df4 = df.query(\"driver_room == 'DriverRoom' and furnished == 'NotFurnished'\")\n",
    "df4.head()"
   ]
  },
  {
   "cell_type": "code",
   "execution_count": 17,
   "metadata": {},
   "outputs": [
    {
     "data": {
      "text/plain": [
       "4460.576726057907"
      ]
     },
     "execution_count": 17,
     "metadata": {},
     "output_type": "execute_result"
    }
   ],
   "source": [
    "df4_PPA_mean = df4['PPA'].mean()\n",
    "df4_PPA_mean"
   ]
  },
  {
   "cell_type": "code",
   "execution_count": 18,
   "metadata": {},
   "outputs": [
    {
     "data": {
      "text/html": [
       "<div>\n",
       "<style>\n",
       "    .dataframe thead tr:only-child th {\n",
       "        text-align: right;\n",
       "    }\n",
       "\n",
       "    .dataframe thead th {\n",
       "        text-align: left;\n",
       "    }\n",
       "\n",
       "    .dataframe tbody tr th {\n",
       "        vertical-align: top;\n",
       "    }\n",
       "</style>\n",
       "<table border=\"1\" class=\"dataframe\">\n",
       "  <thead>\n",
       "    <tr style=\"text-align: right;\">\n",
       "      <th></th>\n",
       "      <th>apartments</th>\n",
       "      <th>bedrooms</th>\n",
       "      <th>driver_room</th>\n",
       "      <th>furnished</th>\n",
       "      <th>SwimmingPool</th>\n",
       "      <th>price</th>\n",
       "      <th>area</th>\n",
       "      <th>اتجاه الشارع</th>\n",
       "      <th>عرض الشارع</th>\n",
       "      <th>district_name_en</th>\n",
       "      <th>year</th>\n",
       "      <th>PPA</th>\n",
       "    </tr>\n",
       "  </thead>\n",
       "  <tbody>\n",
       "    <tr>\n",
       "      <th>3</th>\n",
       "      <td>0</td>\n",
       "      <td>5</td>\n",
       "      <td>NoDriverRoom</td>\n",
       "      <td>NotFurnished</td>\n",
       "      <td>NoSwimmingPool</td>\n",
       "      <td>900000</td>\n",
       "      <td>625</td>\n",
       "      <td>جنوب غربي</td>\n",
       "      <td>15</td>\n",
       "      <td>Dirab</td>\n",
       "      <td>2015</td>\n",
       "      <td>1440</td>\n",
       "    </tr>\n",
       "    <tr>\n",
       "      <th>5</th>\n",
       "      <td>2</td>\n",
       "      <td>5</td>\n",
       "      <td>NoDriverRoom</td>\n",
       "      <td>NotFurnished</td>\n",
       "      <td>NoSwimmingPool</td>\n",
       "      <td>1130000</td>\n",
       "      <td>360</td>\n",
       "      <td>جنوب</td>\n",
       "      <td>20</td>\n",
       "      <td>Tuwaiq</td>\n",
       "      <td>2016</td>\n",
       "      <td>3139</td>\n",
       "    </tr>\n",
       "    <tr>\n",
       "      <th>8</th>\n",
       "      <td>2</td>\n",
       "      <td>4</td>\n",
       "      <td>NoDriverRoom</td>\n",
       "      <td>NotFurnished</td>\n",
       "      <td>NoSwimmingPool</td>\n",
       "      <td>1300000</td>\n",
       "      <td>375</td>\n",
       "      <td>شمال</td>\n",
       "      <td>15</td>\n",
       "      <td>Ar Rimal</td>\n",
       "      <td>2015</td>\n",
       "      <td>3467</td>\n",
       "    </tr>\n",
       "    <tr>\n",
       "      <th>9</th>\n",
       "      <td>0</td>\n",
       "      <td>5</td>\n",
       "      <td>NoDriverRoom</td>\n",
       "      <td>NotFurnished</td>\n",
       "      <td>NoSwimmingPool</td>\n",
       "      <td>700000</td>\n",
       "      <td>500</td>\n",
       "      <td>جنوب</td>\n",
       "      <td>15</td>\n",
       "      <td>Shubra</td>\n",
       "      <td>2016</td>\n",
       "      <td>1400</td>\n",
       "    </tr>\n",
       "    <tr>\n",
       "      <th>10</th>\n",
       "      <td>2</td>\n",
       "      <td>5</td>\n",
       "      <td>NoDriverRoom</td>\n",
       "      <td>NotFurnished</td>\n",
       "      <td>NoSwimmingPool</td>\n",
       "      <td>1000000</td>\n",
       "      <td>375</td>\n",
       "      <td>شرق</td>\n",
       "      <td>25</td>\n",
       "      <td>Ad Dar Al Baida</td>\n",
       "      <td>2015</td>\n",
       "      <td>2667</td>\n",
       "    </tr>\n",
       "  </tbody>\n",
       "</table>\n",
       "</div>"
      ],
      "text/plain": [
       "    apartments  bedrooms   driver_room     furnished    SwimmingPool    price  \\\n",
       "3            0         5  NoDriverRoom  NotFurnished  NoSwimmingPool   900000   \n",
       "5            2         5  NoDriverRoom  NotFurnished  NoSwimmingPool  1130000   \n",
       "8            2         4  NoDriverRoom  NotFurnished  NoSwimmingPool  1300000   \n",
       "9            0         5  NoDriverRoom  NotFurnished  NoSwimmingPool   700000   \n",
       "10           2         5  NoDriverRoom  NotFurnished  NoSwimmingPool  1000000   \n",
       "\n",
       "    area اتجاه الشارع  عرض الشارع district_name_en  year   PPA  \n",
       "3    625    جنوب غربي          15            Dirab  2015  1440  \n",
       "5    360         جنوب          20           Tuwaiq  2016  3139  \n",
       "8    375         شمال          15         Ar Rimal  2015  3467  \n",
       "9    500         جنوب          15           Shubra  2016  1400  \n",
       "10   375          شرق          25  Ad Dar Al Baida  2015  2667  "
      ]
     },
     "execution_count": 18,
     "metadata": {},
     "output_type": "execute_result"
    }
   ],
   "source": [
    "df5 = df.query(\"driver_room == 'NoDriverRoom' and furnished == 'NotFurnished'\")\n",
    "df5.head()"
   ]
  },
  {
   "cell_type": "code",
   "execution_count": 19,
   "metadata": {},
   "outputs": [
    {
     "data": {
      "text/plain": [
       "3245.818664752333"
      ]
     },
     "execution_count": 19,
     "metadata": {},
     "output_type": "execute_result"
    }
   ],
   "source": [
    "df5_PPA_mean = df5['PPA'].mean()\n",
    "df5_PPA_mean"
   ]
  },
  {
   "cell_type": "code",
   "execution_count": 20,
   "metadata": {},
   "outputs": [
    {
     "data": {
      "text/html": [
       "<div>\n",
       "<style>\n",
       "    .dataframe thead tr:only-child th {\n",
       "        text-align: right;\n",
       "    }\n",
       "\n",
       "    .dataframe thead th {\n",
       "        text-align: left;\n",
       "    }\n",
       "\n",
       "    .dataframe tbody tr th {\n",
       "        vertical-align: top;\n",
       "    }\n",
       "</style>\n",
       "<table border=\"1\" class=\"dataframe\">\n",
       "  <thead>\n",
       "    <tr style=\"text-align: right;\">\n",
       "      <th></th>\n",
       "      <th>Category</th>\n",
       "      <th>Average Price Per Unit Area</th>\n",
       "    </tr>\n",
       "  </thead>\n",
       "  <tbody>\n",
       "    <tr>\n",
       "      <th>0</th>\n",
       "      <td>NotFurnished_NoDriverRoom</td>\n",
       "      <td>3246</td>\n",
       "    </tr>\n",
       "    <tr>\n",
       "      <th>1</th>\n",
       "      <td>Furnished_NoDriverRoom</td>\n",
       "      <td>3425</td>\n",
       "    </tr>\n",
       "    <tr>\n",
       "      <th>2</th>\n",
       "      <td>NotFurnished_DriverRoom</td>\n",
       "      <td>4461</td>\n",
       "    </tr>\n",
       "    <tr>\n",
       "      <th>3</th>\n",
       "      <td>Furnished_DriverRoom</td>\n",
       "      <td>4618</td>\n",
       "    </tr>\n",
       "  </tbody>\n",
       "</table>\n",
       "</div>"
      ],
      "text/plain": [
       "                    Category  Average Price Per Unit Area\n",
       "0  NotFurnished_NoDriverRoom                         3246\n",
       "1     Furnished_NoDriverRoom                         3425\n",
       "2    NotFurnished_DriverRoom                         4461\n",
       "3       Furnished_DriverRoom                         4618"
      ]
     },
     "execution_count": 20,
     "metadata": {},
     "output_type": "execute_result"
    }
   ],
   "source": [
    "Cat_PPA = pd.read_csv(\"./CAT_PPA.csv\")\n",
    "Cat_PPA"
   ]
  },
  {
   "cell_type": "code",
   "execution_count": 21,
   "metadata": {
    "slideshow": {
     "slide_type": "slide"
    }
   },
   "outputs": [
    {
     "data": {
      "text/html": [
       "<div class=\"vega-embed\" id=\"87bdbae1-2f30-4430-a3ba-35f144ff39fc\"></div>\n",
       "\n",
       "<style>\n",
       ".vega-embed svg, .vega-embed canvas {\n",
       "  border: 1px dotted gray;\n",
       "}\n",
       "\n",
       ".vega-embed .vega-actions a {\n",
       "  margin-right: 6px;\n",
       "}\n",
       "</style>\n"
      ]
     },
     "metadata": {
      "jupyter-vega3": "#87bdbae1-2f30-4430-a3ba-35f144ff39fc"
     },
     "output_type": "display_data"
    },
    {
     "data": {
      "application/javascript": [
       "var spec = {\"config\": {\"view\": {\"width\": 400, \"height\": 300}}, \"layer\": [{\"data\": {\"values\": [{\"Category\": \"NotFurnished_NoDriverRoom\", \"Average Price Per Unit Area\": 3246, \"rulevalue\": 3246, \"order\": 1}, {\"Category\": \"Furnished_NoDriverRoom\", \"Average Price Per Unit Area\": 3425, \"rulevalue\": 3246, \"order\": 2}, {\"Category\": \"NotFurnished_DriverRoom\", \"Average Price Per Unit Area\": 4461, \"rulevalue\": 3246, \"order\": 3}, {\"Category\": \"Furnished_DriverRoom\", \"Average Price Per Unit Area\": 4618, \"rulevalue\": 3246, \"order\": 4}]}, \"mark\": \"bar\", \"encoding\": {\"color\": {\"type\": \"nominal\", \"field\": \"Category\"}, \"order\": {\"type\": \"quantitative\", \"field\": \"order\"}, \"x\": {\"type\": \"nominal\", \"field\": \"Category\"}, \"y\": {\"type\": \"quantitative\", \"axis\": {\"title\": \"Average Price Per Unit Area\"}, \"field\": \"Average Price Per Unit Area\"}}, \"height\": 500, \"width\": 400}, {\"data\": {\"values\": [{\"Category\": \"NotFurnished_NoDriverRoom\", \"Average Price Per Unit Area\": 3246, \"rulevalue\": 3246, \"order\": 1}, {\"Category\": \"Furnished_NoDriverRoom\", \"Average Price Per Unit Area\": 3425, \"rulevalue\": 3246, \"order\": 2}, {\"Category\": \"NotFurnished_DriverRoom\", \"Average Price Per Unit Area\": 4461, \"rulevalue\": 3246, \"order\": 3}, {\"Category\": \"Furnished_DriverRoom\", \"Average Price Per Unit Area\": 4618, \"rulevalue\": 3246, \"order\": 4}]}, \"mark\": {\"type\": \"rule\", \"color\": \"firebrick\"}, \"encoding\": {\"size\": {\"value\": 3}, \"y\": {\"type\": \"quantitative\", \"aggregate\": \"mean\", \"field\": \"rulevalue\"}}}, {\"data\": {\"values\": [{\"Category\": \"NotFurnished_NoDriverRoom\", \"Average Price Per Unit Area\": 3246, \"rulevalue\": 3246, \"order\": 1}, {\"Category\": \"Furnished_NoDriverRoom\", \"Average Price Per Unit Area\": 3425, \"rulevalue\": 3246, \"order\": 2}, {\"Category\": \"NotFurnished_DriverRoom\", \"Average Price Per Unit Area\": 4461, \"rulevalue\": 3246, \"order\": 3}, {\"Category\": \"Furnished_DriverRoom\", \"Average Price Per Unit Area\": 4618, \"rulevalue\": 3246, \"order\": 4}]}, \"mark\": {\"type\": \"text\", \"align\": \"right\", \"dx\": 118, \"dy\": -96}, \"encoding\": {\"text\": {\"value\": \"6%\"}}}, {\"data\": {\"values\": [{\"Category\": \"NotFurnished_NoDriverRoom\", \"Average Price Per Unit Area\": 3246, \"rulevalue\": 3246, \"order\": 1}, {\"Category\": \"Furnished_NoDriverRoom\", \"Average Price Per Unit Area\": 3425, \"rulevalue\": 3246, \"order\": 2}, {\"Category\": \"NotFurnished_DriverRoom\", \"Average Price Per Unit Area\": 4461, \"rulevalue\": 3246, \"order\": 3}, {\"Category\": \"Furnished_DriverRoom\", \"Average Price Per Unit Area\": 4618, \"rulevalue\": 3246, \"order\": 4}]}, \"mark\": {\"type\": \"text\", \"align\": \"right\", \"dx\": 15, \"dy\": -217}, \"encoding\": {\"text\": {\"value\": \"40%\"}}}, {\"data\": {\"values\": [{\"Category\": \"NotFurnished_NoDriverRoom\", \"Average Price Per Unit Area\": 3246, \"rulevalue\": 3246, \"order\": 1}, {\"Category\": \"Furnished_NoDriverRoom\", \"Average Price Per Unit Area\": 3425, \"rulevalue\": 3246, \"order\": 2}, {\"Category\": \"NotFurnished_DriverRoom\", \"Average Price Per Unit Area\": 4461, \"rulevalue\": 3246, \"order\": 3}, {\"Category\": \"Furnished_DriverRoom\", \"Average Price Per Unit Area\": 4618, \"rulevalue\": 3246, \"order\": 4}]}, \"mark\": {\"type\": \"text\", \"align\": \"left\", \"dx\": 195, \"dy\": -199}, \"encoding\": {\"text\": {\"value\": \"37%\"}}}, {\"data\": {\"values\": [{\"Category\": \"NotFurnished_NoDriverRoom\", \"Average Price Per Unit Area\": 3246, \"rulevalue\": 3246, \"order\": 1}, {\"Category\": \"Furnished_NoDriverRoom\", \"Average Price Per Unit Area\": 3425, \"rulevalue\": 3246, \"order\": 2}, {\"Category\": \"NotFurnished_DriverRoom\", \"Average Price Per Unit Area\": 4461, \"rulevalue\": 3246, \"order\": 3}, {\"Category\": \"Furnished_DriverRoom\", \"Average Price Per Unit Area\": 4618, \"rulevalue\": 3246, \"order\": 4}]}, \"mark\": {\"type\": \"text\", \"align\": \"center\", \"dx\": 150, \"dy\": -270, \"size\": 14}, \"encoding\": {\"text\": {\"value\": \"Villas Average Price with Furniture and/or Drive Room Services\"}}}], \"data\": {\"values\": [{\"Category\": \"NotFurnished_NoDriverRoom\", \"Average Price Per Unit Area\": 3246, \"rulevalue\": 3246, \"order\": 1}, {\"Category\": \"Furnished_NoDriverRoom\", \"Average Price Per Unit Area\": 3425, \"rulevalue\": 3246, \"order\": 2}, {\"Category\": \"NotFurnished_DriverRoom\", \"Average Price Per Unit Area\": 4461, \"rulevalue\": 3246, \"order\": 3}, {\"Category\": \"Furnished_DriverRoom\", \"Average Price Per Unit Area\": 4618, \"rulevalue\": 3246, \"order\": 4}]}, \"$schema\": \"https://vega.github.io/schema/vega-lite/v2.json\"};\n",
       "var selector = \"#87bdbae1-2f30-4430-a3ba-35f144ff39fc\";\n",
       "var type = \"vega-lite\";\n",
       "\n",
       "var output_area = this;\n",
       "require(['nbextensions/jupyter-vega3/index'], function(vega) {\n",
       "  vega.render(selector, spec, type, output_area);\n",
       "}, function (err) {\n",
       "  if (err.requireType !== 'scripterror') {\n",
       "    throw(err);\n",
       "  }\n",
       "});\n"
      ]
     },
     "metadata": {
      "jupyter-vega3": "#87bdbae1-2f30-4430-a3ba-35f144ff39fc"
     },
     "output_type": "display_data"
    },
    {
     "data": {
      "text/plain": [
       "LayerChart({\n",
       "  layer: [Chart({\n",
       "    data:                     Category  Average Price Per Unit Area  rulevalue  order\n",
       "    0  NotFurnished_NoDriverRoom                         3246       3246      1\n",
       "    1     Furnished_NoDriverRoom                         3425       3246      2\n",
       "    2    NotFurnished_DriverRoom                         4461       3246      3\n",
       "    3       Furnished_DriverRoom                         4618       3246      4,\n",
       "    mark: 'bar',\n",
       "    encoding: EncodingWithFacet({\n",
       "      color: Color({\n",
       "        type: BasicType('nominal'),\n",
       "        field: 'Category'\n",
       "      }),\n",
       "      order: Order({\n",
       "        field: 'order:Q'\n",
       "      }),\n",
       "      x: X({\n",
       "        field: 'Category:N'\n",
       "      }),\n",
       "      y: Y({\n",
       "        axis: Axis({\n",
       "          title: 'Average Price Per Unit Area'\n",
       "        }),\n",
       "        field: 'Average Price Per Unit Area:Q'\n",
       "      })\n",
       "    }),\n",
       "    height: 500,\n",
       "    width: 400\n",
       "  }), Chart({\n",
       "    data:                     Category  Average Price Per Unit Area  rulevalue  order\n",
       "    0  NotFurnished_NoDriverRoom                         3246       3246      1\n",
       "    1     Furnished_NoDriverRoom                         3425       3246      2\n",
       "    2    NotFurnished_DriverRoom                         4461       3246      3\n",
       "    3       Furnished_DriverRoom                         4618       3246      4,\n",
       "    mark: MarkDef({\n",
       "      type: 'rule',\n",
       "      color: 'firebrick'\n",
       "    }),\n",
       "    encoding: EncodingWithFacet({\n",
       "      size: SizeValue({\n",
       "        value: 3\n",
       "      }),\n",
       "      y: Y({\n",
       "        type: BasicType('quantitative'),\n",
       "        aggregate: Aggregate('mean'),\n",
       "        field: 'rulevalue'\n",
       "      })\n",
       "    })\n",
       "  }), Chart({\n",
       "    data:                     Category  Average Price Per Unit Area  rulevalue  order\n",
       "    0  NotFurnished_NoDriverRoom                         3246       3246      1\n",
       "    1     Furnished_NoDriverRoom                         3425       3246      2\n",
       "    2    NotFurnished_DriverRoom                         4461       3246      3\n",
       "    3       Furnished_DriverRoom                         4618       3246      4,\n",
       "    mark: MarkDef({\n",
       "      type: 'text',\n",
       "      align: 'right',\n",
       "      dx: 118,\n",
       "      dy: -96\n",
       "    }),\n",
       "    encoding: EncodingWithFacet({\n",
       "      text: TextValue({\n",
       "        value: '6%'\n",
       "      })\n",
       "    })\n",
       "  }), Chart({\n",
       "    data:                     Category  Average Price Per Unit Area  rulevalue  order\n",
       "    0  NotFurnished_NoDriverRoom                         3246       3246      1\n",
       "    1     Furnished_NoDriverRoom                         3425       3246      2\n",
       "    2    NotFurnished_DriverRoom                         4461       3246      3\n",
       "    3       Furnished_DriverRoom                         4618       3246      4,\n",
       "    mark: MarkDef({\n",
       "      type: 'text',\n",
       "      align: 'right',\n",
       "      dx: 15,\n",
       "      dy: -217\n",
       "    }),\n",
       "    encoding: EncodingWithFacet({\n",
       "      text: TextValue({\n",
       "        value: '40%'\n",
       "      })\n",
       "    })\n",
       "  }), Chart({\n",
       "    data:                     Category  Average Price Per Unit Area  rulevalue  order\n",
       "    0  NotFurnished_NoDriverRoom                         3246       3246      1\n",
       "    1     Furnished_NoDriverRoom                         3425       3246      2\n",
       "    2    NotFurnished_DriverRoom                         4461       3246      3\n",
       "    3       Furnished_DriverRoom                         4618       3246      4,\n",
       "    mark: MarkDef({\n",
       "      type: 'text',\n",
       "      align: 'left',\n",
       "      dx: 195,\n",
       "      dy: -199\n",
       "    }),\n",
       "    encoding: EncodingWithFacet({\n",
       "      text: TextValue({\n",
       "        value: '37%'\n",
       "      })\n",
       "    })\n",
       "  }), Chart({\n",
       "    data:                     Category  Average Price Per Unit Area  rulevalue  order\n",
       "    0  NotFurnished_NoDriverRoom                         3246       3246      1\n",
       "    1     Furnished_NoDriverRoom                         3425       3246      2\n",
       "    2    NotFurnished_DriverRoom                         4461       3246      3\n",
       "    3       Furnished_DriverRoom                         4618       3246      4,\n",
       "    mark: MarkDef({\n",
       "      type: 'text',\n",
       "      align: 'center',\n",
       "      dx: 150,\n",
       "      dy: -270,\n",
       "      size: 14\n",
       "    }),\n",
       "    encoding: EncodingWithFacet({\n",
       "      text: TextValue({\n",
       "        value: 'Villas Average Price with Furniture and/or Drive Room Services'\n",
       "      })\n",
       "    })\n",
       "  })],\n",
       "  data:                     Category  Average Price Per Unit Area  rulevalue  order\n",
       "  0  NotFurnished_NoDriverRoom                         3246       3246      1\n",
       "  1     Furnished_NoDriverRoom                         3425       3246      2\n",
       "  2    NotFurnished_DriverRoom                         4461       3246      3\n",
       "  3       Furnished_DriverRoom                         4618       3246      4\n",
       "})"
      ]
     },
     "execution_count": 21,
     "metadata": {},
     "output_type": "execute_result"
    },
    {
     "data": {
      "image/png": "[encoded data removed]"
     },
     "metadata": {
      "jupyter-vega3": "#87bdbae1-2f30-4430-a3ba-35f144ff39fc"
     },
     "output_type": "display_data"
    },
    {
     "data": {
      "image/png": "[encoded data removed]"
     },
     "metadata": {
      "jupyter-vega3": "#87bdbae1-2f30-4430-a3ba-35f144ff39fc"
     },
     "output_type": "display_data"
    },
    {
     "data": {
      "image/png": "[encoded data removed]"
     },
     "metadata": {
      "jupyter-vega3": "#87bdbae1-2f30-4430-a3ba-35f144ff39fc"
     },
     "output_type": "display_data"
    }
   ],
   "source": [
    "Cat_PPA['rulevalue'] = Cat_PPA['Average Price Per Unit Area'][0]\n",
    "Cat_PPA['order'] = [1,2,3,4]\n",
    "alt.renderers.enable('notebook')\n",
    "\n",
    "#scale=alt.Scale(domain=['x-small', 'small', 'x-large', 'large'],range=[\"#333333\",\"#666666\",\"#999999\",\"#eeeeee\"], type='ordinal')\n",
    "\n",
    "bar = alt.Chart(Cat_PPA,height=500, width = 400).mark_bar().encode(\n",
    "      alt.X('Category:N'),\n",
    "      alt.Order('order:Q'),\n",
    "      alt.Y('Average Price Per Unit Area:Q', axis=alt.Axis(title='Average Price Per Unit Area')),\n",
    "      color ='Category:N')\n",
    "\n",
    "rule = alt.Chart(Cat_PPA).mark_rule(color = 'firebrick').encode(y = 'mean(rulevalue):Q', size = alt.value(3))\n",
    "\n",
    "text = alt.Chart(Cat_PPA).mark_text(align='right', dx=118, dy=-96).encode(text=alt.value('6%'))\n",
    "\n",
    "text2 = alt.Chart(Cat_PPA).mark_text(align='right', dx=15, dy=-217).encode(text=alt.value('40%'))\n",
    "\n",
    "text3 = alt.Chart(Cat_PPA).mark_text(align='left', dx=195, dy=-199).encode(text=alt.value('37%'))\n",
    "\n",
    "text4 = alt.Chart(Cat_PPA).mark_text(align='center', dx=150, dy=-270, size=14).encode(text=alt.value('Villas Average Price with Furniture and/or Drive Room Services'))\n",
    "\n",
    "chart = alt.layer(bar, rule, text, text2, text3, text4).properties(data = Cat_PPA)\n",
    "chart"
   ]
  },
  {
   "cell_type": "markdown",
   "metadata": {},
   "source": [
    "##################################################################################################################\n",
    "##################################################################################################################"
   ]
  },
  {
   "cell_type": "code",
   "execution_count": 22,
   "metadata": {},
   "outputs": [
    {
     "data": {
      "text/html": [
       "<div>\n",
       "<style>\n",
       "    .dataframe thead tr:only-child th {\n",
       "        text-align: right;\n",
       "    }\n",
       "\n",
       "    .dataframe thead th {\n",
       "        text-align: left;\n",
       "    }\n",
       "\n",
       "    .dataframe tbody tr th {\n",
       "        vertical-align: top;\n",
       "    }\n",
       "</style>\n",
       "<table border=\"1\" class=\"dataframe\">\n",
       "  <thead>\n",
       "    <tr style=\"text-align: right;\">\n",
       "      <th></th>\n",
       "      <th>apartments</th>\n",
       "      <th>bedrooms</th>\n",
       "      <th>driver_room</th>\n",
       "      <th>furnished</th>\n",
       "      <th>SwimmingPool</th>\n",
       "      <th>price</th>\n",
       "      <th>area</th>\n",
       "      <th>اتجاه الشارع</th>\n",
       "      <th>عرض الشارع</th>\n",
       "      <th>district_name_en</th>\n",
       "      <th>year</th>\n",
       "      <th>PPA</th>\n",
       "    </tr>\n",
       "  </thead>\n",
       "  <tbody>\n",
       "    <tr>\n",
       "      <th>0</th>\n",
       "      <td>1</td>\n",
       "      <td>5</td>\n",
       "      <td>DriverRoom</td>\n",
       "      <td>NotFurnished</td>\n",
       "      <td>SwimmingPool</td>\n",
       "      <td>3000000</td>\n",
       "      <td>400</td>\n",
       "      <td>شمال</td>\n",
       "      <td>10</td>\n",
       "      <td>Al Ulaya</td>\n",
       "      <td>2016</td>\n",
       "      <td>7500</td>\n",
       "    </tr>\n",
       "    <tr>\n",
       "      <th>1</th>\n",
       "      <td>2</td>\n",
       "      <td>3</td>\n",
       "      <td>DriverRoom</td>\n",
       "      <td>NotFurnished</td>\n",
       "      <td>NoSwimmingPool</td>\n",
       "      <td>1700000</td>\n",
       "      <td>373</td>\n",
       "      <td>جنوب</td>\n",
       "      <td>15</td>\n",
       "      <td>An Narjis</td>\n",
       "      <td>2015</td>\n",
       "      <td>4558</td>\n",
       "    </tr>\n",
       "    <tr>\n",
       "      <th>2</th>\n",
       "      <td>4</td>\n",
       "      <td>3</td>\n",
       "      <td>DriverRoom</td>\n",
       "      <td>NotFurnished</td>\n",
       "      <td>NoSwimmingPool</td>\n",
       "      <td>1700000</td>\n",
       "      <td>438</td>\n",
       "      <td>شمال</td>\n",
       "      <td>15</td>\n",
       "      <td>Al Arid</td>\n",
       "      <td>2016</td>\n",
       "      <td>3881</td>\n",
       "    </tr>\n",
       "    <tr>\n",
       "      <th>3</th>\n",
       "      <td>0</td>\n",
       "      <td>5</td>\n",
       "      <td>NoDriverRoom</td>\n",
       "      <td>NotFurnished</td>\n",
       "      <td>NoSwimmingPool</td>\n",
       "      <td>900000</td>\n",
       "      <td>625</td>\n",
       "      <td>جنوب غربي</td>\n",
       "      <td>15</td>\n",
       "      <td>Dirab</td>\n",
       "      <td>2015</td>\n",
       "      <td>1440</td>\n",
       "    </tr>\n",
       "    <tr>\n",
       "      <th>4</th>\n",
       "      <td>2</td>\n",
       "      <td>5</td>\n",
       "      <td>DriverRoom</td>\n",
       "      <td>NotFurnished</td>\n",
       "      <td>NoSwimmingPool</td>\n",
       "      <td>1650000</td>\n",
       "      <td>450</td>\n",
       "      <td>جنوب</td>\n",
       "      <td>20</td>\n",
       "      <td>Dhahrat Laban</td>\n",
       "      <td>2016</td>\n",
       "      <td>3667</td>\n",
       "    </tr>\n",
       "  </tbody>\n",
       "</table>\n",
       "</div>"
      ],
      "text/plain": [
       "   apartments  bedrooms   driver_room     furnished    SwimmingPool    price  \\\n",
       "0           1         5    DriverRoom  NotFurnished    SwimmingPool  3000000   \n",
       "1           2         3    DriverRoom  NotFurnished  NoSwimmingPool  1700000   \n",
       "2           4         3    DriverRoom  NotFurnished  NoSwimmingPool  1700000   \n",
       "3           0         5  NoDriverRoom  NotFurnished  NoSwimmingPool   900000   \n",
       "4           2         5    DriverRoom  NotFurnished  NoSwimmingPool  1650000   \n",
       "\n",
       "   area اتجاه الشارع  عرض الشارع district_name_en  year   PPA  \n",
       "0   400         شمال          10         Al Ulaya  2016  7500  \n",
       "1   373         جنوب          15        An Narjis  2015  4558  \n",
       "2   438         شمال          15          Al Arid  2016  3881  \n",
       "3   625    جنوب غربي          15            Dirab  2015  1440  \n",
       "4   450         جنوب          20    Dhahrat Laban  2016  3667  "
      ]
     },
     "execution_count": 22,
     "metadata": {},
     "output_type": "execute_result"
    }
   ],
   "source": [
    "df.head()"
   ]
  },
  {
   "cell_type": "code",
   "execution_count": 23,
   "metadata": {
    "collapsed": true
   },
   "outputs": [],
   "source": [
    "df.rename(columns={'عرض الشارع': 'StreetWidth'}, inplace=True)"
   ]
  },
  {
   "cell_type": "code",
   "execution_count": 24,
   "metadata": {},
   "outputs": [
    {
     "data": {
      "text/plain": [
       "array([ 10,  15,  20,  25,   0,   5,  14,  26,  30,  21,  16,  13,  18,\n",
       "        37,  35,  12,  75,  40,  60, 100,  17,  19,  90,  28,   6,  22,\n",
       "        11,  45,  23,  50,  85,  70,  39,   9,   7,  31,  51,  65,  24,\n",
       "        29,  80,  55])"
      ]
     },
     "execution_count": 24,
     "metadata": {},
     "output_type": "execute_result"
    }
   ],
   "source": [
    "df.StreetWidth.unique()"
   ]
  },
  {
   "cell_type": "code",
   "execution_count": 25,
   "metadata": {
    "collapsed": true
   },
   "outputs": [],
   "source": [
    "df_SW = df.query(\"StreetWidth >= 5 and StreetWidth <= 45\")"
   ]
  },
  {
   "cell_type": "code",
   "execution_count": 26,
   "metadata": {},
   "outputs": [
    {
     "data": {
      "text/plain": [
       "array([10, 15, 20, 25,  5, 14, 26, 30, 21, 16, 13, 18, 37, 35, 12, 40, 17,\n",
       "       19, 28,  6, 22, 11, 45, 23, 39,  9,  7, 31, 24, 29])"
      ]
     },
     "execution_count": 26,
     "metadata": {},
     "output_type": "execute_result"
    }
   ],
   "source": [
    "df_SW.StreetWidth.unique()"
   ]
  },
  {
   "cell_type": "code",
   "execution_count": 27,
   "metadata": {},
   "outputs": [
    {
     "data": {
      "text/plain": [
       "15    7774\n",
       "20    7259\n",
       "25     657\n",
       "10     563\n",
       "30     237\n",
       "5      225\n",
       "16      81\n",
       "12      76\n",
       "14      56\n",
       "18      53\n",
       "21      33\n",
       "40      29\n",
       "35      26\n",
       "19      20\n",
       "22      19\n",
       "17      13\n",
       "23      10\n",
       "13      10\n",
       "26       8\n",
       "45       6\n",
       "11       5\n",
       "28       5\n",
       "9        3\n",
       "29       2\n",
       "31       1\n",
       "37       1\n",
       "6        1\n",
       "7        1\n",
       "39       1\n",
       "24       1\n",
       "dtype: int64"
      ]
     },
     "execution_count": 27,
     "metadata": {},
     "output_type": "execute_result"
    }
   ],
   "source": [
    "pd.value_counts(df_SW['StreetWidth'].values, sort=True)"
   ]
  },
  {
   "cell_type": "code",
   "execution_count": 28,
   "metadata": {
    "collapsed": true
   },
   "outputs": [],
   "source": [
    "df_SW = df_SW.query(\"StreetWidth == 10 or StreetWidth == 15 or StreetWidth == 20 or StreetWidth == 25 \")"
   ]
  },
  {
   "cell_type": "code",
   "execution_count": 29,
   "metadata": {},
   "outputs": [
    {
     "data": {
      "text/plain": [
       "15    7774\n",
       "20    7259\n",
       "25     657\n",
       "10     563\n",
       "dtype: int64"
      ]
     },
     "execution_count": 29,
     "metadata": {},
     "output_type": "execute_result"
    }
   ],
   "source": [
    "pd.value_counts(df_SW['StreetWidth'].values, sort=True)"
   ]
  },
  {
   "cell_type": "code",
   "execution_count": 30,
   "metadata": {
    "collapsed": true
   },
   "outputs": [],
   "source": [
    "import plotly  as py\n",
    "py.tools.set_credentials_file(username='nohaaw', api_key='XgzPr7IUpqpOmqtCfnK8')\n",
    "import plotly.graph_objs as go"
   ]
  },
  {
   "cell_type": "code",
   "execution_count": 31,
   "metadata": {
    "collapsed": true
   },
   "outputs": [],
   "source": [
    "x_data = [10,15,20,25]"
   ]
  },
  {
   "cell_type": "markdown",
   "metadata": {},
   "source": [
    "categories by Street Width types:"
   ]
  },
  {
   "cell_type": "code",
   "execution_count": 32,
   "metadata": {
    "collapsed": true
   },
   "outputs": [],
   "source": [
    "y1 = df_SW.groupby(['StreetWidth']).get_group(10)"
   ]
  },
  {
   "cell_type": "code",
   "execution_count": 33,
   "metadata": {
    "collapsed": true
   },
   "outputs": [],
   "source": [
    "y1=y1['PPA']"
   ]
  },
  {
   "cell_type": "code",
   "execution_count": 34,
   "metadata": {
    "collapsed": true
   },
   "outputs": [],
   "source": [
    "y2 = df_SW.groupby(['StreetWidth']).get_group(15)"
   ]
  },
  {
   "cell_type": "code",
   "execution_count": 35,
   "metadata": {
    "collapsed": true
   },
   "outputs": [],
   "source": [
    "y2=y2['PPA']"
   ]
  },
  {
   "cell_type": "code",
   "execution_count": 36,
   "metadata": {
    "collapsed": true
   },
   "outputs": [],
   "source": [
    "y3 = df_SW.groupby(['StreetWidth']).get_group(20)"
   ]
  },
  {
   "cell_type": "code",
   "execution_count": 37,
   "metadata": {
    "collapsed": true
   },
   "outputs": [],
   "source": [
    "y3=y3['PPA']"
   ]
  },
  {
   "cell_type": "code",
   "execution_count": 38,
   "metadata": {
    "collapsed": true
   },
   "outputs": [],
   "source": [
    "y4 = df_SW.groupby(['StreetWidth']).get_group(25)"
   ]
  },
  {
   "cell_type": "code",
   "execution_count": 39,
   "metadata": {
    "collapsed": true
   },
   "outputs": [],
   "source": [
    "y4=y4['PPA']"
   ]
  },
  {
   "cell_type": "code",
   "execution_count": 40,
   "metadata": {
    "collapsed": true
   },
   "outputs": [],
   "source": [
    "y_data = [y1,y2,y3,y4]"
   ]
  },
  {
   "cell_type": "code",
   "execution_count": 41,
   "metadata": {},
   "outputs": [
    {
     "data": {
      "text/html": [
       "<iframe id=\"igraph\" scrolling=\"no\" style=\"border:none;\" seamless=\"seamless\" src=\"https://plot.ly/~nohaaw/131.embed\" height=\"525px\" width=\"100%\"></iframe>"
      ],
      "text/plain": [
       "<plotly.tools.PlotlyDisplay object>"
      ]
     },
     "execution_count": 41,
     "metadata": {},
     "output_type": "execute_result"
    }
   ],
   "source": [
    "colors = ['rgba(93, 164, 214, 0.5)', 'rgba(255, 144, 14, 0.5)', 'rgba(44, 160, 101, 0.5)', 'rgba(255, 65, 54, 0.5)', 'rgba(207, 114, 255, 0.5)', 'rgba(127, 96, 0, 0.5)']\n",
    "\n",
    "traces = []\n",
    "\n",
    "for xd, yd, cls in zip(x_data, y_data, colors):\n",
    "        traces.append(go.Box(\n",
    "            y=yd,\n",
    "            name=xd,\n",
    "            boxpoints='all',\n",
    "            jitter=0.5,\n",
    "            whiskerwidth=0.2,\n",
    "            fillcolor=cls,\n",
    "            marker=dict(\n",
    "                size=1,\n",
    "            ),\n",
    "            line=dict(width=1),\n",
    "        ))\n",
    "\n",
    "layout = go.Layout(\n",
    "    title='Villas Price Per Unit Area Categorised by Street Width in Riyadh Districts for Area Range 300 - 650 m^2',\n",
    "    yaxis=dict(\n",
    "        showgrid=True,\n",
    "        zeroline=True,\n",
    "        range=[0, 12000],\n",
    "        dtick=2000,\n",
    "        gridcolor='rgb(255, 255, 255)',\n",
    "        gridwidth=1,\n",
    "        zerolinecolor='rgb(255, 255, 255)',\n",
    "        zerolinewidth=2,\n",
    "        ticks='',\n",
    "        title='Price Per Unit Area',\n",
    "\n",
    "    ),\n",
    "    xaxis=dict(\n",
    "            title=\"Street Width (metres)\"),\n",
    "    \n",
    "    margin=dict(\n",
    "        l=40,\n",
    "        r=30,\n",
    "        b=50,\n",
    "        t=80,\n",
    "    ),\n",
    "    paper_bgcolor='rgb(243, 243, 243)',\n",
    "    plot_bgcolor='rgb(243, 243, 243)',\n",
    "    showlegend=False\n",
    ")\n",
    "\n",
    "fig = go.Figure(data=traces, layout=layout)\n",
    "py.plotly.iplot(fig)"
   ]
  },
  {
   "cell_type": "markdown",
   "metadata": {},
   "source": [
    "To remove the outliers:"
   ]
  },
  {
   "cell_type": "code",
   "execution_count": 42,
   "metadata": {
    "collapsed": true
   },
   "outputs": [],
   "source": [
    "df_SW1 = df.query(\"PPA <= 10000\")"
   ]
  },
  {
   "cell_type": "code",
   "execution_count": 43,
   "metadata": {
    "collapsed": true
   },
   "outputs": [],
   "source": [
    "df_SW1 = df_SW1.query(\"StreetWidth >= 10 and StreetWidth <= 25\")"
   ]
  },
  {
   "cell_type": "code",
   "execution_count": 44,
   "metadata": {
    "collapsed": true
   },
   "outputs": [],
   "source": [
    "y1 = df_SW1.groupby(['StreetWidth']).get_group(10)\n",
    "y1=y1['PPA']\n",
    "y2 = df_SW1.groupby(['StreetWidth']).get_group(15)\n",
    "y2=y2['PPA']\n",
    "y3 = df_SW1.groupby(['StreetWidth']).get_group(20)\n",
    "y3=y3['PPA']\n",
    "y4 = df_SW1.groupby(['StreetWidth']).get_group(25)\n",
    "y4=y4['PPA']"
   ]
  },
  {
   "cell_type": "code",
   "execution_count": 45,
   "metadata": {
    "collapsed": true
   },
   "outputs": [],
   "source": [
    "y_data = [y1,y2,y3,y4]"
   ]
  },
  {
   "cell_type": "code",
   "execution_count": 46,
   "metadata": {
    "slideshow": {
     "slide_type": "slide"
    }
   },
   "outputs": [
    {
     "data": {
      "text/html": [
       "<iframe id=\"igraph\" scrolling=\"no\" style=\"border:none;\" seamless=\"seamless\" src=\"https://plot.ly/~nohaaw/133.embed\" height=\"525px\" width=\"100%\"></iframe>"
      ],
      "text/plain": [
       "<plotly.tools.PlotlyDisplay object>"
      ]
     },
     "execution_count": 46,
     "metadata": {},
     "output_type": "execute_result"
    }
   ],
   "source": [
    "colors = ['rgba(93, 164, 214, 0.5)', 'rgba(255, 144, 14, 0.5)', 'rgba(44, 160, 101, 0.5)', 'rgba(255, 65, 54, 0.5)', 'rgba(207, 114, 255, 0.5)', 'rgba(127, 96, 0, 0.5)']\n",
    "\n",
    "traces = []\n",
    "\n",
    "for xd, yd, cls in zip(x_data, y_data, colors):\n",
    "        traces.append(go.Box(\n",
    "            y=yd,\n",
    "            name=xd,\n",
    "            boxpoints='all',\n",
    "            jitter=0.5,\n",
    "            whiskerwidth=0.2,\n",
    "            fillcolor=cls,\n",
    "            marker=dict(\n",
    "                size=1,\n",
    "            ),\n",
    "            line=dict(width=1),\n",
    "        ))\n",
    "\n",
    "layout = go.Layout(\n",
    "    title='Villas Price Per Unit Area categorised by Street Width in Riyadh Districts for Area Range 300 - 650 m^2',\n",
    "    yaxis=dict(\n",
    "        showgrid=True,\n",
    "        zeroline=True,\n",
    "        range=[0, 10000],\n",
    "        dtick=2000,\n",
    "        gridcolor='rgb(255, 255, 255)',\n",
    "        gridwidth=1,\n",
    "        zerolinecolor='rgb(255, 255, 255)',\n",
    "        zerolinewidth=2,\n",
    "        ticks='',\n",
    "        title='Price Per Unit Area',\n",
    "\n",
    "    ),\n",
    "    xaxis=dict(\n",
    "            title=\"Street Width (metres)\"),\n",
    "    margin=dict(\n",
    "        l=40,\n",
    "        r=30,\n",
    "        b=50,\n",
    "        t=80,\n",
    "    ),\n",
    "    paper_bgcolor='rgb(243, 243, 243)',\n",
    "    plot_bgcolor='rgb(243, 243, 243)',\n",
    "    showlegend=False\n",
    ")\n",
    "\n",
    "fig = go.Figure(data=traces, layout=layout)\n",
    "py.plotly.iplot(fig)"
   ]
  },
  {
   "cell_type": "code",
   "execution_count": null,
   "metadata": {
    "collapsed": true
   },
   "outputs": [],
   "source": []
  },
  {
   "cell_type": "code",
   "execution_count": null,
   "metadata": {
    "collapsed": true
   },
   "outputs": [],
   "source": []
  },
  {
   "cell_type": "code",
   "execution_count": null,
   "metadata": {
    "collapsed": true
   },
   "outputs": [],
   "source": []
  }
 ],
 "metadata": {
  "celltoolbar": "Raw Cell Format",
  "kernelspec": {
   "display_name": "Python 3",
   "language": "python",
   "name": "python3"
  },
  "language_info": {
   "codemirror_mode": {
    "name": "ipython",
    "version": 3
   },
   "file_extension": ".py",
   "mimetype": "text/x-python",
   "name": "python",
   "nbconvert_exporter": "python",
   "pygments_lexer": "ipython3",
   "version": "3.6.3"
  }
 },
 "nbformat": 4,
 "nbformat_minor": 2
}

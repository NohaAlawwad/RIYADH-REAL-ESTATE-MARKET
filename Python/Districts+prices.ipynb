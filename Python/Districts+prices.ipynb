{
 "cells": [
  {
   "cell_type": "code",
   "execution_count": 1,
   "metadata": {
    "collapsed": true
   },
   "outputs": [],
   "source": [
    "import pandas as pd\n",
    "import numpy as np"
   ]
  },
  {
   "cell_type": "code",
   "execution_count": 2,
   "metadata": {
    "collapsed": true
   },
   "outputs": [],
   "source": [
    "df = pd.read_csv(\"./priceperunitarea_Villas.csv\")"
   ]
  },
  {
   "cell_type": "code",
   "execution_count": 3,
   "metadata": {},
   "outputs": [
    {
     "data": {
      "text/html": [
       "<div>\n",
       "<style>\n",
       "    .dataframe thead tr:only-child th {\n",
       "        text-align: right;\n",
       "    }\n",
       "\n",
       "    .dataframe thead th {\n",
       "        text-align: left;\n",
       "    }\n",
       "\n",
       "    .dataframe tbody tr th {\n",
       "        vertical-align: top;\n",
       "    }\n",
       "</style>\n",
       "<table border=\"1\" class=\"dataframe\">\n",
       "  <thead>\n",
       "    <tr style=\"text-align: right;\">\n",
       "      <th></th>\n",
       "      <th>date</th>\n",
       "      <th>عدد غرف النوم</th>\n",
       "      <th>سكني أو تجاري</th>\n",
       "      <th>c_type</th>\n",
       "      <th>غرفة سائق</th>\n",
       "      <th>دوبلكس</th>\n",
       "      <th>مسبح</th>\n",
       "      <th>price</th>\n",
       "      <th>مدة الإيجار</th>\n",
       "      <th>area</th>\n",
       "      <th>اتجاه الشارع</th>\n",
       "      <th>عرض الشارع</th>\n",
       "      <th>sale_or_rent</th>\n",
       "      <th>district_name_ar</th>\n",
       "      <th>district_name_en</th>\n",
       "      <th>year</th>\n",
       "      <th>Price Per Unit Area</th>\n",
       "    </tr>\n",
       "  </thead>\n",
       "  <tbody>\n",
       "    <tr>\n",
       "      <th>0</th>\n",
       "      <td>12/04/2016 3:15</td>\n",
       "      <td>5</td>\n",
       "      <td>غير محدد</td>\n",
       "      <td>فيلا</td>\n",
       "      <td>غرفة سائق</td>\n",
       "      <td>ليست دوبلكس</td>\n",
       "      <td>مسبح</td>\n",
       "      <td>3000000</td>\n",
       "      <td>غير محدد</td>\n",
       "      <td>400</td>\n",
       "      <td>شمال</td>\n",
       "      <td>10</td>\n",
       "      <td>للبيع</td>\n",
       "      <td>العليا</td>\n",
       "      <td>Al Ulaya</td>\n",
       "      <td>2016</td>\n",
       "      <td>7500</td>\n",
       "    </tr>\n",
       "    <tr>\n",
       "      <th>1</th>\n",
       "      <td>14/05/2015 19:53</td>\n",
       "      <td>3</td>\n",
       "      <td>غير محدد</td>\n",
       "      <td>فيلا</td>\n",
       "      <td>غرفة سائق</td>\n",
       "      <td>ليست دوبلكس</td>\n",
       "      <td>لا يوجد مسبح</td>\n",
       "      <td>1700000</td>\n",
       "      <td>غير محدد</td>\n",
       "      <td>373</td>\n",
       "      <td>جنوب</td>\n",
       "      <td>15</td>\n",
       "      <td>للبيع</td>\n",
       "      <td>النرجس</td>\n",
       "      <td>An Narjis</td>\n",
       "      <td>2015</td>\n",
       "      <td>4558</td>\n",
       "    </tr>\n",
       "    <tr>\n",
       "      <th>2</th>\n",
       "      <td>19/08/2016 13:42</td>\n",
       "      <td>3</td>\n",
       "      <td>غير محدد</td>\n",
       "      <td>فيلا</td>\n",
       "      <td>غرفة سائق</td>\n",
       "      <td>ليست دوبلكس</td>\n",
       "      <td>لا يوجد مسبح</td>\n",
       "      <td>1700000</td>\n",
       "      <td>غير محدد</td>\n",
       "      <td>438</td>\n",
       "      <td>شمال</td>\n",
       "      <td>15</td>\n",
       "      <td>للبيع</td>\n",
       "      <td>العارض</td>\n",
       "      <td>Al Arid</td>\n",
       "      <td>2016</td>\n",
       "      <td>3881</td>\n",
       "    </tr>\n",
       "    <tr>\n",
       "      <th>3</th>\n",
       "      <td>18/11/2015 17:52</td>\n",
       "      <td>5</td>\n",
       "      <td>غير محدد</td>\n",
       "      <td>فيلا</td>\n",
       "      <td>لا يوجد غرفة سائق</td>\n",
       "      <td>ليست دوبلكس</td>\n",
       "      <td>لا يوجد مسبح</td>\n",
       "      <td>900000</td>\n",
       "      <td>غير محدد</td>\n",
       "      <td>625</td>\n",
       "      <td>جنوب غربي</td>\n",
       "      <td>15</td>\n",
       "      <td>للبيع</td>\n",
       "      <td>ديراب</td>\n",
       "      <td>Dirab</td>\n",
       "      <td>2015</td>\n",
       "      <td>1440</td>\n",
       "    </tr>\n",
       "    <tr>\n",
       "      <th>4</th>\n",
       "      <td>18/08/2016 13:42</td>\n",
       "      <td>4</td>\n",
       "      <td>غير محدد</td>\n",
       "      <td>فيلا</td>\n",
       "      <td>غرفة سائق</td>\n",
       "      <td>ليست دوبلكس</td>\n",
       "      <td>لا يوجد مسبح</td>\n",
       "      <td>920000</td>\n",
       "      <td>غير محدد</td>\n",
       "      <td>280</td>\n",
       "      <td>شمال</td>\n",
       "      <td>20</td>\n",
       "      <td>للبيع</td>\n",
       "      <td>الرمال</td>\n",
       "      <td>Ar Rimal</td>\n",
       "      <td>2016</td>\n",
       "      <td>3286</td>\n",
       "    </tr>\n",
       "  </tbody>\n",
       "</table>\n",
       "</div>"
      ],
      "text/plain": [
       "               date  عدد غرف النوم سكني أو تجاري c_type          غرفة سائق  \\\n",
       "0   12/04/2016 3:15              5      غير محدد   فيلا          غرفة سائق   \n",
       "1  14/05/2015 19:53              3      غير محدد   فيلا          غرفة سائق   \n",
       "2  19/08/2016 13:42              3      غير محدد   فيلا          غرفة سائق   \n",
       "3  18/11/2015 17:52              5      غير محدد   فيلا  لا يوجد غرفة سائق   \n",
       "4  18/08/2016 13:42              4      غير محدد   فيلا          غرفة سائق   \n",
       "\n",
       "        دوبلكس          مسبح    price مدة الإيجار  area اتجاه الشارع  \\\n",
       "0  ليست دوبلكس          مسبح  3000000    غير محدد   400         شمال   \n",
       "1  ليست دوبلكس  لا يوجد مسبح  1700000    غير محدد   373         جنوب   \n",
       "2  ليست دوبلكس  لا يوجد مسبح  1700000    غير محدد   438         شمال   \n",
       "3  ليست دوبلكس  لا يوجد مسبح   900000    غير محدد   625    جنوب غربي   \n",
       "4  ليست دوبلكس  لا يوجد مسبح   920000    غير محدد   280         شمال   \n",
       "\n",
       "   عرض الشارع sale_or_rent district_name_ar district_name_en  year  \\\n",
       "0          10        للبيع           العليا         Al Ulaya  2016   \n",
       "1          15        للبيع           النرجس        An Narjis  2015   \n",
       "2          15        للبيع           العارض          Al Arid  2016   \n",
       "3          15        للبيع            ديراب            Dirab  2015   \n",
       "4          20        للبيع           الرمال         Ar Rimal  2016   \n",
       "\n",
       "   Price Per Unit Area  \n",
       "0                 7500  \n",
       "1                 4558  \n",
       "2                 3881  \n",
       "3                 1440  \n",
       "4                 3286  "
      ]
     },
     "execution_count": 3,
     "metadata": {},
     "output_type": "execute_result"
    }
   ],
   "source": [
    "df.head()"
   ]
  },
  {
   "cell_type": "code",
   "execution_count": 4,
   "metadata": {
    "collapsed": true
   },
   "outputs": [],
   "source": [
    " df1 = df.drop(['date', 'عدد غرف النوم', 'سكني أو تجاري','c_type','غرفة سائق','مسبح','price','مدة الإيجار','area','sale_or_rent','district_name_ar','اتجاه الشارع','عرض الشارع','دوبلكس'], axis=1, inplace=False)"
   ]
  },
  {
   "cell_type": "code",
   "execution_count": 5,
   "metadata": {},
   "outputs": [
    {
     "data": {
      "text/plain": [
       "(17665, 3)"
      ]
     },
     "execution_count": 5,
     "metadata": {},
     "output_type": "execute_result"
    }
   ],
   "source": [
    "df1.shape"
   ]
  },
  {
   "cell_type": "code",
   "execution_count": 6,
   "metadata": {},
   "outputs": [
    {
     "data": {
      "text/html": [
       "<div>\n",
       "<style>\n",
       "    .dataframe thead tr:only-child th {\n",
       "        text-align: right;\n",
       "    }\n",
       "\n",
       "    .dataframe thead th {\n",
       "        text-align: left;\n",
       "    }\n",
       "\n",
       "    .dataframe tbody tr th {\n",
       "        vertical-align: top;\n",
       "    }\n",
       "</style>\n",
       "<table border=\"1\" class=\"dataframe\">\n",
       "  <thead>\n",
       "    <tr style=\"text-align: right;\">\n",
       "      <th></th>\n",
       "      <th>district_name_en</th>\n",
       "      <th>year</th>\n",
       "      <th>Price Per Unit Area</th>\n",
       "    </tr>\n",
       "  </thead>\n",
       "  <tbody>\n",
       "    <tr>\n",
       "      <th>0</th>\n",
       "      <td>Al Ulaya</td>\n",
       "      <td>2016</td>\n",
       "      <td>7500</td>\n",
       "    </tr>\n",
       "    <tr>\n",
       "      <th>1</th>\n",
       "      <td>An Narjis</td>\n",
       "      <td>2015</td>\n",
       "      <td>4558</td>\n",
       "    </tr>\n",
       "    <tr>\n",
       "      <th>2</th>\n",
       "      <td>Al Arid</td>\n",
       "      <td>2016</td>\n",
       "      <td>3881</td>\n",
       "    </tr>\n",
       "    <tr>\n",
       "      <th>3</th>\n",
       "      <td>Dirab</td>\n",
       "      <td>2015</td>\n",
       "      <td>1440</td>\n",
       "    </tr>\n",
       "    <tr>\n",
       "      <th>4</th>\n",
       "      <td>Ar Rimal</td>\n",
       "      <td>2016</td>\n",
       "      <td>3286</td>\n",
       "    </tr>\n",
       "  </tbody>\n",
       "</table>\n",
       "</div>"
      ],
      "text/plain": [
       "  district_name_en  year  Price Per Unit Area\n",
       "0         Al Ulaya  2016                 7500\n",
       "1        An Narjis  2015                 4558\n",
       "2          Al Arid  2016                 3881\n",
       "3            Dirab  2015                 1440\n",
       "4         Ar Rimal  2016                 3286"
      ]
     },
     "execution_count": 6,
     "metadata": {},
     "output_type": "execute_result"
    }
   ],
   "source": [
    "df1.head()"
   ]
  },
  {
   "cell_type": "code",
   "execution_count": 7,
   "metadata": {},
   "outputs": [
    {
     "data": {
      "text/plain": [
       "137"
      ]
     },
     "execution_count": 7,
     "metadata": {},
     "output_type": "execute_result"
    }
   ],
   "source": [
    "df1.district_name_en.nunique()"
   ]
  },
  {
   "cell_type": "markdown",
   "metadata": {},
   "source": [
    "Create pivot table to calculate the average per year for (Price Per Unit Area) column for each distinct district."
   ]
  },
  {
   "cell_type": "code",
   "execution_count": 8,
   "metadata": {
    "collapsed": true
   },
   "outputs": [],
   "source": [
    "AveragePricePerUnitArea = df.pivot_table(\"Price Per Unit Area\", index='district_name_en', columns='year', aggfunc='mean')"
   ]
  },
  {
   "cell_type": "code",
   "execution_count": 9,
   "metadata": {},
   "outputs": [
    {
     "data": {
      "text/html": [
       "<div>\n",
       "<style>\n",
       "    .dataframe thead tr:only-child th {\n",
       "        text-align: right;\n",
       "    }\n",
       "\n",
       "    .dataframe thead th {\n",
       "        text-align: left;\n",
       "    }\n",
       "\n",
       "    .dataframe tbody tr th {\n",
       "        vertical-align: top;\n",
       "    }\n",
       "</style>\n",
       "<table border=\"1\" class=\"dataframe\">\n",
       "  <thead>\n",
       "    <tr style=\"text-align: right;\">\n",
       "      <th>year</th>\n",
       "      <th>2014</th>\n",
       "      <th>2015</th>\n",
       "      <th>2016</th>\n",
       "    </tr>\n",
       "    <tr>\n",
       "      <th>district_name_en</th>\n",
       "      <th></th>\n",
       "      <th></th>\n",
       "      <th></th>\n",
       "    </tr>\n",
       "  </thead>\n",
       "  <tbody>\n",
       "    <tr>\n",
       "      <th>Ad Dar Al Baida</th>\n",
       "      <td>2865.1</td>\n",
       "      <td>2795.191176</td>\n",
       "      <td>2679.462264</td>\n",
       "    </tr>\n",
       "    <tr>\n",
       "      <th>Ad Duraihimiyah</th>\n",
       "      <td>3333.0</td>\n",
       "      <td>NaN</td>\n",
       "      <td>NaN</td>\n",
       "    </tr>\n",
       "    <tr>\n",
       "      <th>Adh Dhubbat</th>\n",
       "      <td>NaN</td>\n",
       "      <td>5146.500000</td>\n",
       "      <td>3784.500000</td>\n",
       "    </tr>\n",
       "    <tr>\n",
       "      <th>Al Amal</th>\n",
       "      <td>NaN</td>\n",
       "      <td>3968.000000</td>\n",
       "      <td>NaN</td>\n",
       "    </tr>\n",
       "    <tr>\n",
       "      <th>Al Andalus</th>\n",
       "      <td>2600.0</td>\n",
       "      <td>3720.956522</td>\n",
       "      <td>3795.148148</td>\n",
       "    </tr>\n",
       "  </tbody>\n",
       "</table>\n",
       "</div>"
      ],
      "text/plain": [
       "year                2014         2015         2016\n",
       "district_name_en                                  \n",
       "Ad Dar Al Baida   2865.1  2795.191176  2679.462264\n",
       "Ad Duraihimiyah   3333.0          NaN          NaN\n",
       "Adh Dhubbat          NaN  5146.500000  3784.500000\n",
       "Al Amal              NaN  3968.000000          NaN\n",
       "Al Andalus        2600.0  3720.956522  3795.148148"
      ]
     },
     "execution_count": 9,
     "metadata": {},
     "output_type": "execute_result"
    }
   ],
   "source": [
    "AveragePricePerUnitArea.head()"
   ]
  },
  {
   "cell_type": "markdown",
   "metadata": {},
   "source": [
    "Drop rows that have Null values in more than one year:"
   ]
  },
  {
   "cell_type": "code",
   "execution_count": 10,
   "metadata": {
    "collapsed": true,
    "scrolled": true
   },
   "outputs": [],
   "source": [
    "AveragePricePerUnitArea = AveragePricePerUnitArea.dropna(thresh=2) "
   ]
  },
  {
   "cell_type": "code",
   "execution_count": 11,
   "metadata": {},
   "outputs": [
    {
     "data": {
      "text/html": [
       "<div>\n",
       "<style>\n",
       "    .dataframe thead tr:only-child th {\n",
       "        text-align: right;\n",
       "    }\n",
       "\n",
       "    .dataframe thead th {\n",
       "        text-align: left;\n",
       "    }\n",
       "\n",
       "    .dataframe tbody tr th {\n",
       "        vertical-align: top;\n",
       "    }\n",
       "</style>\n",
       "<table border=\"1\" class=\"dataframe\">\n",
       "  <thead>\n",
       "    <tr style=\"text-align: right;\">\n",
       "      <th>year</th>\n",
       "      <th>2014</th>\n",
       "      <th>2015</th>\n",
       "      <th>2016</th>\n",
       "    </tr>\n",
       "    <tr>\n",
       "      <th>district_name_en</th>\n",
       "      <th></th>\n",
       "      <th></th>\n",
       "      <th></th>\n",
       "    </tr>\n",
       "  </thead>\n",
       "  <tbody>\n",
       "    <tr>\n",
       "      <th>Ad Dar Al Baida</th>\n",
       "      <td>2865.100000</td>\n",
       "      <td>2795.191176</td>\n",
       "      <td>2679.462264</td>\n",
       "    </tr>\n",
       "    <tr>\n",
       "      <th>Adh Dhubbat</th>\n",
       "      <td>NaN</td>\n",
       "      <td>5146.500000</td>\n",
       "      <td>3784.500000</td>\n",
       "    </tr>\n",
       "    <tr>\n",
       "      <th>Al Andalus</th>\n",
       "      <td>2600.000000</td>\n",
       "      <td>3720.956522</td>\n",
       "      <td>3795.148148</td>\n",
       "    </tr>\n",
       "    <tr>\n",
       "      <th>Al Aqiq</th>\n",
       "      <td>5222.000000</td>\n",
       "      <td>4681.448276</td>\n",
       "      <td>5063.217391</td>\n",
       "    </tr>\n",
       "    <tr>\n",
       "      <th>Al Arid</th>\n",
       "      <td>4018.166667</td>\n",
       "      <td>4255.821918</td>\n",
       "      <td>4202.824380</td>\n",
       "    </tr>\n",
       "  </tbody>\n",
       "</table>\n",
       "</div>"
      ],
      "text/plain": [
       "year                     2014         2015         2016\n",
       "district_name_en                                       \n",
       "Ad Dar Al Baida   2865.100000  2795.191176  2679.462264\n",
       "Adh Dhubbat               NaN  5146.500000  3784.500000\n",
       "Al Andalus        2600.000000  3720.956522  3795.148148\n",
       "Al Aqiq           5222.000000  4681.448276  5063.217391\n",
       "Al Arid           4018.166667  4255.821918  4202.824380"
      ]
     },
     "execution_count": 11,
     "metadata": {},
     "output_type": "execute_result"
    }
   ],
   "source": [
    "AveragePricePerUnitArea.head()"
   ]
  },
  {
   "cell_type": "code",
   "execution_count": 10,
   "metadata": {},
   "outputs": [
    {
     "data": {
      "text/plain": [
       "(116, 3)"
      ]
     },
     "execution_count": 10,
     "metadata": {},
     "output_type": "execute_result"
    }
   ],
   "source": [
    "AveragePricePerUnitArea.shape"
   ]
  },
  {
   "cell_type": "markdown",
   "metadata": {},
   "source": [
    "22 districts droped because they had missing data in more than one year."
   ]
  },
  {
   "cell_type": "markdown",
   "metadata": {},
   "source": [
    "Then, Replace the nulls values of the few districts that had it in one year by taking the average of the two available prices."
   ]
  },
  {
   "cell_type": "code",
   "execution_count": 11,
   "metadata": {
    "collapsed": true
   },
   "outputs": [],
   "source": [
    "AveragePricePerUnitArea = AveragePricePerUnitArea.apply(lambda row: row.fillna(row.mean()), axis=1)"
   ]
  },
  {
   "cell_type": "markdown",
   "metadata": {},
   "source": [
    "To convert Price Per Unit Area values to integers we use:"
   ]
  },
  {
   "cell_type": "code",
   "execution_count": 12,
   "metadata": {
    "collapsed": true
   },
   "outputs": [],
   "source": [
    "AveragePricePerUnitArea  = AveragePricePerUnitArea.astype(int)"
   ]
  },
  {
   "cell_type": "markdown",
   "metadata": {},
   "source": [
    "Finally, save it to use it in the d3.js dashboard."
   ]
  },
  {
   "cell_type": "code",
   "execution_count": 13,
   "metadata": {
    "collapsed": true
   },
   "outputs": [],
   "source": [
    "#AveragePricePerUnitArea.to_csv(\"avgperunitarea__Villa.csv\")"
   ]
  },
  {
   "cell_type": "markdown",
   "metadata": {},
   "source": [
    "Now, I want to compute the total offers that was available during the three years 2014, 2015, and 2016 for each district, which indicate number of newly built houses that could indicate where the demand is taking place. Furthermore, it could indicate that sitizens are being moved to other new districts and trying to sell thair old house."
   ]
  },
  {
   "cell_type": "code",
   "execution_count": 14,
   "metadata": {
    "collapsed": true
   },
   "outputs": [],
   "source": [
    "OffersPerdistrict_Villas = df.groupby('district_name_en', sort=True)[\"district_name_en\"].count().reset_index(name ='Total_offers')"
   ]
  },
  {
   "cell_type": "code",
   "execution_count": 15,
   "metadata": {},
   "outputs": [
    {
     "data": {
      "text/html": [
       "<div>\n",
       "<style>\n",
       "    .dataframe thead tr:only-child th {\n",
       "        text-align: right;\n",
       "    }\n",
       "\n",
       "    .dataframe thead th {\n",
       "        text-align: left;\n",
       "    }\n",
       "\n",
       "    .dataframe tbody tr th {\n",
       "        vertical-align: top;\n",
       "    }\n",
       "</style>\n",
       "<table border=\"1\" class=\"dataframe\">\n",
       "  <thead>\n",
       "    <tr style=\"text-align: right;\">\n",
       "      <th></th>\n",
       "      <th>district_name_en</th>\n",
       "      <th>Total_offers</th>\n",
       "    </tr>\n",
       "  </thead>\n",
       "  <tbody>\n",
       "    <tr>\n",
       "      <th>0</th>\n",
       "      <td>Ad Dar Al Baida</td>\n",
       "      <td>184</td>\n",
       "    </tr>\n",
       "    <tr>\n",
       "      <th>1</th>\n",
       "      <td>Ad Duraihimiyah</td>\n",
       "      <td>1</td>\n",
       "    </tr>\n",
       "    <tr>\n",
       "      <th>2</th>\n",
       "      <td>Adh Dhubbat</td>\n",
       "      <td>8</td>\n",
       "    </tr>\n",
       "    <tr>\n",
       "      <th>3</th>\n",
       "      <td>Al Amal</td>\n",
       "      <td>1</td>\n",
       "    </tr>\n",
       "    <tr>\n",
       "      <th>4</th>\n",
       "      <td>Al Andalus</td>\n",
       "      <td>52</td>\n",
       "    </tr>\n",
       "  </tbody>\n",
       "</table>\n",
       "</div>"
      ],
      "text/plain": [
       "  district_name_en  Total_offers\n",
       "0  Ad Dar Al Baida           184\n",
       "1  Ad Duraihimiyah             1\n",
       "2      Adh Dhubbat             8\n",
       "3          Al Amal             1\n",
       "4       Al Andalus            52"
      ]
     },
     "execution_count": 15,
     "metadata": {},
     "output_type": "execute_result"
    }
   ],
   "source": [
    "OffersPerdistrict_Villas.head()"
   ]
  },
  {
   "cell_type": "markdown",
   "metadata": {},
   "source": [
    "Perfect! I need it in the dashboard too, so I will save it."
   ]
  },
  {
   "cell_type": "code",
   "execution_count": 16,
   "metadata": {
    "collapsed": true
   },
   "outputs": [],
   "source": [
    "#OffersPerdistrict_Villas.to_csv(\"OffersPerdistrict_Villas.csv\")"
   ]
  },
  {
   "cell_type": "markdown",
   "metadata": {
    "collapsed": true
   },
   "source": [
    "####################################################################################################################"
   ]
  },
  {
   "cell_type": "markdown",
   "metadata": {},
   "source": [
    "####################################################################################################################"
   ]
  },
  {
   "cell_type": "markdown",
   "metadata": {},
   "source": [
    "Next, I need to load the CSV file belong to the apartments for rent."
   ]
  },
  {
   "cell_type": "code",
   "execution_count": 17,
   "metadata": {
    "collapsed": true
   },
   "outputs": [],
   "source": [
    "df2 = pd.read_csv(\"./PricePerDistrict_Apartments.csv\")"
   ]
  },
  {
   "cell_type": "code",
   "execution_count": 18,
   "metadata": {
    "collapsed": true
   },
   "outputs": [],
   "source": [
    " df3 = df2.drop(['date', 'عدد غرف النوم', 'سكني أو تجاري','c_type','غرفة سائق','مسبح','مدة الإيجار','area','sale_or_rent','district_name_ar','اتجاه الشارع','عرض الشارع','دوبلكس'], axis=1, inplace=False)"
   ]
  },
  {
   "cell_type": "code",
   "execution_count": 19,
   "metadata": {},
   "outputs": [
    {
     "data": {
      "text/html": [
       "<div>\n",
       "<style>\n",
       "    .dataframe thead tr:only-child th {\n",
       "        text-align: right;\n",
       "    }\n",
       "\n",
       "    .dataframe thead th {\n",
       "        text-align: left;\n",
       "    }\n",
       "\n",
       "    .dataframe tbody tr th {\n",
       "        vertical-align: top;\n",
       "    }\n",
       "</style>\n",
       "<table border=\"1\" class=\"dataframe\">\n",
       "  <thead>\n",
       "    <tr style=\"text-align: right;\">\n",
       "      <th></th>\n",
       "      <th>price</th>\n",
       "      <th>district_name_en</th>\n",
       "      <th>year</th>\n",
       "    </tr>\n",
       "  </thead>\n",
       "  <tbody>\n",
       "    <tr>\n",
       "      <th>0</th>\n",
       "      <td>12000</td>\n",
       "      <td>Utaiqah</td>\n",
       "      <td>2016</td>\n",
       "    </tr>\n",
       "    <tr>\n",
       "      <th>1</th>\n",
       "      <td>40000</td>\n",
       "      <td>Al Mughrizat</td>\n",
       "      <td>2016</td>\n",
       "    </tr>\n",
       "    <tr>\n",
       "      <th>2</th>\n",
       "      <td>20000</td>\n",
       "      <td>Ishbiliyah</td>\n",
       "      <td>2016</td>\n",
       "    </tr>\n",
       "    <tr>\n",
       "      <th>3</th>\n",
       "      <td>27000</td>\n",
       "      <td>Al Yarmuk</td>\n",
       "      <td>2016</td>\n",
       "    </tr>\n",
       "    <tr>\n",
       "      <th>4</th>\n",
       "      <td>30000</td>\n",
       "      <td>Ishbiliyah</td>\n",
       "      <td>2016</td>\n",
       "    </tr>\n",
       "  </tbody>\n",
       "</table>\n",
       "</div>"
      ],
      "text/plain": [
       "   price district_name_en  year\n",
       "0  12000          Utaiqah  2016\n",
       "1  40000     Al Mughrizat  2016\n",
       "2  20000       Ishbiliyah  2016\n",
       "3  27000        Al Yarmuk  2016\n",
       "4  30000       Ishbiliyah  2016"
      ]
     },
     "execution_count": 19,
     "metadata": {},
     "output_type": "execute_result"
    }
   ],
   "source": [
    "df3.head()"
   ]
  },
  {
   "cell_type": "markdown",
   "metadata": {},
   "source": [
    "Now, We have to compute Average prices for each year per district using Pivot table"
   ]
  },
  {
   "cell_type": "code",
   "execution_count": 20,
   "metadata": {
    "collapsed": true
   },
   "outputs": [],
   "source": [
    "AveragePrice = df3.pivot_table(\"price\", index='district_name_en', columns='year', aggfunc='mean')"
   ]
  },
  {
   "cell_type": "code",
   "execution_count": 21,
   "metadata": {},
   "outputs": [
    {
     "data": {
      "text/plain": [
       "(148, 3)"
      ]
     },
     "execution_count": 21,
     "metadata": {},
     "output_type": "execute_result"
    }
   ],
   "source": [
    "AveragePrice.shape"
   ]
  },
  {
   "cell_type": "markdown",
   "metadata": {},
   "source": [
    "Drop rows that have Null values in more than one year:"
   ]
  },
  {
   "cell_type": "code",
   "execution_count": 22,
   "metadata": {
    "collapsed": true
   },
   "outputs": [],
   "source": [
    "AveragePrice = AveragePrice.dropna(thresh=2) "
   ]
  },
  {
   "cell_type": "code",
   "execution_count": 23,
   "metadata": {},
   "outputs": [
    {
     "data": {
      "text/plain": [
       "(126, 3)"
      ]
     },
     "execution_count": 23,
     "metadata": {},
     "output_type": "execute_result"
    }
   ],
   "source": [
    "AveragePrice.shape"
   ]
  },
  {
   "cell_type": "markdown",
   "metadata": {},
   "source": [
    "22 districts droped because they had missing data in more than one year.\n",
    "\n",
    "Then, Replace the nulls values of the few districts that had it in one year by taking the average of the two available prices."
   ]
  },
  {
   "cell_type": "code",
   "execution_count": 24,
   "metadata": {
    "collapsed": true
   },
   "outputs": [],
   "source": [
    "AveragePrice = AveragePrice.apply(lambda row: row.fillna(row.mean()), axis=1)"
   ]
  },
  {
   "cell_type": "markdown",
   "metadata": {},
   "source": [
    "To convert Price column values to integers we use:"
   ]
  },
  {
   "cell_type": "code",
   "execution_count": 25,
   "metadata": {
    "collapsed": true
   },
   "outputs": [],
   "source": [
    "AveragePrice=AveragePrice.astype(int)"
   ]
  },
  {
   "cell_type": "markdown",
   "metadata": {},
   "source": [
    "Finally, save it to use it in the d3.js second dashboard."
   ]
  },
  {
   "cell_type": "code",
   "execution_count": 26,
   "metadata": {
    "collapsed": true
   },
   "outputs": [],
   "source": [
    "#AveragePrice.to_csv(\"AveragePricePerDistrict_Apartments.csv\")"
   ]
  },
  {
   "cell_type": "markdown",
   "metadata": {},
   "source": [
    "We need to know how many rental offers are available for each district for apartments"
   ]
  },
  {
   "cell_type": "code",
   "execution_count": 27,
   "metadata": {
    "collapsed": true
   },
   "outputs": [],
   "source": [
    "OffersPerdistrict__Apartments = df3.groupby('district_name_en', sort=True)[\"district_name_en\"].count().reset_index(name ='Total_offers')"
   ]
  },
  {
   "cell_type": "code",
   "execution_count": 28,
   "metadata": {},
   "outputs": [
    {
     "data": {
      "text/html": [
       "<div>\n",
       "<style>\n",
       "    .dataframe thead tr:only-child th {\n",
       "        text-align: right;\n",
       "    }\n",
       "\n",
       "    .dataframe thead th {\n",
       "        text-align: left;\n",
       "    }\n",
       "\n",
       "    .dataframe tbody tr th {\n",
       "        vertical-align: top;\n",
       "    }\n",
       "</style>\n",
       "<table border=\"1\" class=\"dataframe\">\n",
       "  <thead>\n",
       "    <tr style=\"text-align: right;\">\n",
       "      <th></th>\n",
       "      <th>district_name_en</th>\n",
       "      <th>Total_offers</th>\n",
       "    </tr>\n",
       "  </thead>\n",
       "  <tbody>\n",
       "    <tr>\n",
       "      <th>0</th>\n",
       "      <td>Ad Dar Al Baida</td>\n",
       "      <td>219</td>\n",
       "    </tr>\n",
       "    <tr>\n",
       "      <th>1</th>\n",
       "      <td>Ad Dirah</td>\n",
       "      <td>3</td>\n",
       "    </tr>\n",
       "    <tr>\n",
       "      <th>2</th>\n",
       "      <td>Ad Dubiyah</td>\n",
       "      <td>4</td>\n",
       "    </tr>\n",
       "    <tr>\n",
       "      <th>3</th>\n",
       "      <td>Ad Duraihimiyah</td>\n",
       "      <td>3</td>\n",
       "    </tr>\n",
       "    <tr>\n",
       "      <th>4</th>\n",
       "      <td>Adh Dhubbat</td>\n",
       "      <td>38</td>\n",
       "    </tr>\n",
       "  </tbody>\n",
       "</table>\n",
       "</div>"
      ],
      "text/plain": [
       "  district_name_en  Total_offers\n",
       "0  Ad Dar Al Baida           219\n",
       "1         Ad Dirah             3\n",
       "2       Ad Dubiyah             4\n",
       "3  Ad Duraihimiyah             3\n",
       "4      Adh Dhubbat            38"
      ]
     },
     "execution_count": 28,
     "metadata": {},
     "output_type": "execute_result"
    }
   ],
   "source": [
    "OffersPerdistrict__Apartments.head()"
   ]
  },
  {
   "cell_type": "markdown",
   "metadata": {},
   "source": [
    "I need to save it to use it in the second d3.js dashboard."
   ]
  },
  {
   "cell_type": "code",
   "execution_count": 28,
   "metadata": {
    "collapsed": true
   },
   "outputs": [],
   "source": [
    "#OffersPerdistrict_Apartments.to_csv(\"OffersPerdistrict__Apartments.csv\")"
   ]
  },
  {
   "cell_type": "code",
   "execution_count": null,
   "metadata": {
    "collapsed": true
   },
   "outputs": [],
   "source": []
  }
 ],
 "metadata": {
  "kernelspec": {
   "display_name": "Python 3",
   "language": "python",
   "name": "python3"
  },
  "language_info": {
   "codemirror_mode": {
    "name": "ipython",
    "version": 3
   },
   "file_extension": ".py",
   "mimetype": "text/x-python",
   "name": "python",
   "nbconvert_exporter": "python",
   "pygments_lexer": "ipython3",
   "version": "3.6.3"
  }
 },
 "nbformat": 4,
 "nbformat_minor": 2
}
